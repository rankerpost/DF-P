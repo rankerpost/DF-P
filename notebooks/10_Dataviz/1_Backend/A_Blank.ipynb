{
 "cells": [
  {
   "attachments": {},
   "cell_type": "markdown",
   "id": "9d054a26",
   "metadata": {
    "papermill": {
     "duration": 0.004274,
     "end_time": "2024-06-15T23:13:10.145437",
     "exception": false,
     "start_time": "2024-06-15T23:13:10.141163",
     "status": "completed"
    },
    "tags": []
   },
   "source": [
    "# Basic Streamlit App"
   ]
  },
  {
   "attachments": {},
   "cell_type": "markdown",
   "id": "13a1ab19",
   "metadata": {
    "papermill": {
     "duration": 0.002666,
     "end_time": "2024-06-15T23:13:10.151381",
     "exception": false,
     "start_time": "2024-06-15T23:13:10.148715",
     "status": "completed"
    },
    "tags": []
   },
   "source": [
    "## Load data"
   ]
  },
  {
   "cell_type": "code",
   "execution_count": 1,
   "id": "2687920a",
   "metadata": {},
   "outputs": [],
   "source": [
    "import pandas as pd"
   ]
  },
  {
   "cell_type": "code",
   "execution_count": 2,
   "id": "f07b4379",
   "metadata": {},
   "outputs": [
    {
     "data": {
      "text/html": [
       "<div>\n",
       "<style scoped>\n",
       "    .dataframe tbody tr th:only-of-type {\n",
       "        vertical-align: middle;\n",
       "    }\n",
       "\n",
       "    .dataframe tbody tr th {\n",
       "        vertical-align: top;\n",
       "    }\n",
       "\n",
       "    .dataframe thead th {\n",
       "        text-align: right;\n",
       "    }\n",
       "</style>\n",
       "<table border=\"1\" class=\"dataframe\">\n",
       "  <thead>\n",
       "    <tr style=\"text-align: right;\">\n",
       "      <th></th>\n",
       "      <th>country</th>\n",
       "      <th>continent</th>\n",
       "      <th>year</th>\n",
       "      <th>lifeExp</th>\n",
       "      <th>pop</th>\n",
       "      <th>gdpPercap</th>\n",
       "      <th>iso_alpha</th>\n",
       "      <th>iso_num</th>\n",
       "    </tr>\n",
       "  </thead>\n",
       "  <tbody>\n",
       "    <tr>\n",
       "      <th>0</th>\n",
       "      <td>Afghanistan</td>\n",
       "      <td>Asia</td>\n",
       "      <td>1952</td>\n",
       "      <td>28.801</td>\n",
       "      <td>8425333</td>\n",
       "      <td>779.445314</td>\n",
       "      <td>AFG</td>\n",
       "      <td>4</td>\n",
       "    </tr>\n",
       "    <tr>\n",
       "      <th>1</th>\n",
       "      <td>Afghanistan</td>\n",
       "      <td>Asia</td>\n",
       "      <td>1957</td>\n",
       "      <td>30.332</td>\n",
       "      <td>9240934</td>\n",
       "      <td>820.853030</td>\n",
       "      <td>AFG</td>\n",
       "      <td>4</td>\n",
       "    </tr>\n",
       "    <tr>\n",
       "      <th>2</th>\n",
       "      <td>Afghanistan</td>\n",
       "      <td>Asia</td>\n",
       "      <td>1962</td>\n",
       "      <td>31.997</td>\n",
       "      <td>10267083</td>\n",
       "      <td>853.100710</td>\n",
       "      <td>AFG</td>\n",
       "      <td>4</td>\n",
       "    </tr>\n",
       "    <tr>\n",
       "      <th>3</th>\n",
       "      <td>Afghanistan</td>\n",
       "      <td>Asia</td>\n",
       "      <td>1967</td>\n",
       "      <td>34.020</td>\n",
       "      <td>11537966</td>\n",
       "      <td>836.197138</td>\n",
       "      <td>AFG</td>\n",
       "      <td>4</td>\n",
       "    </tr>\n",
       "    <tr>\n",
       "      <th>4</th>\n",
       "      <td>Afghanistan</td>\n",
       "      <td>Asia</td>\n",
       "      <td>1972</td>\n",
       "      <td>36.088</td>\n",
       "      <td>13079460</td>\n",
       "      <td>739.981106</td>\n",
       "      <td>AFG</td>\n",
       "      <td>4</td>\n",
       "    </tr>\n",
       "    <tr>\n",
       "      <th>...</th>\n",
       "      <td>...</td>\n",
       "      <td>...</td>\n",
       "      <td>...</td>\n",
       "      <td>...</td>\n",
       "      <td>...</td>\n",
       "      <td>...</td>\n",
       "      <td>...</td>\n",
       "      <td>...</td>\n",
       "    </tr>\n",
       "    <tr>\n",
       "      <th>1699</th>\n",
       "      <td>Zimbabwe</td>\n",
       "      <td>Africa</td>\n",
       "      <td>1987</td>\n",
       "      <td>62.351</td>\n",
       "      <td>9216418</td>\n",
       "      <td>706.157306</td>\n",
       "      <td>ZWE</td>\n",
       "      <td>716</td>\n",
       "    </tr>\n",
       "    <tr>\n",
       "      <th>1700</th>\n",
       "      <td>Zimbabwe</td>\n",
       "      <td>Africa</td>\n",
       "      <td>1992</td>\n",
       "      <td>60.377</td>\n",
       "      <td>10704340</td>\n",
       "      <td>693.420786</td>\n",
       "      <td>ZWE</td>\n",
       "      <td>716</td>\n",
       "    </tr>\n",
       "    <tr>\n",
       "      <th>1701</th>\n",
       "      <td>Zimbabwe</td>\n",
       "      <td>Africa</td>\n",
       "      <td>1997</td>\n",
       "      <td>46.809</td>\n",
       "      <td>11404948</td>\n",
       "      <td>792.449960</td>\n",
       "      <td>ZWE</td>\n",
       "      <td>716</td>\n",
       "    </tr>\n",
       "    <tr>\n",
       "      <th>1702</th>\n",
       "      <td>Zimbabwe</td>\n",
       "      <td>Africa</td>\n",
       "      <td>2002</td>\n",
       "      <td>39.989</td>\n",
       "      <td>11926563</td>\n",
       "      <td>672.038623</td>\n",
       "      <td>ZWE</td>\n",
       "      <td>716</td>\n",
       "    </tr>\n",
       "    <tr>\n",
       "      <th>1703</th>\n",
       "      <td>Zimbabwe</td>\n",
       "      <td>Africa</td>\n",
       "      <td>2007</td>\n",
       "      <td>43.487</td>\n",
       "      <td>12311143</td>\n",
       "      <td>469.709298</td>\n",
       "      <td>ZWE</td>\n",
       "      <td>716</td>\n",
       "    </tr>\n",
       "  </tbody>\n",
       "</table>\n",
       "<p>1704 rows × 8 columns</p>\n",
       "</div>"
      ],
      "text/plain": [
       "          country continent  year  lifeExp       pop   gdpPercap iso_alpha  \\\n",
       "0     Afghanistan      Asia  1952   28.801   8425333  779.445314       AFG   \n",
       "1     Afghanistan      Asia  1957   30.332   9240934  820.853030       AFG   \n",
       "2     Afghanistan      Asia  1962   31.997  10267083  853.100710       AFG   \n",
       "3     Afghanistan      Asia  1967   34.020  11537966  836.197138       AFG   \n",
       "4     Afghanistan      Asia  1972   36.088  13079460  739.981106       AFG   \n",
       "...           ...       ...   ...      ...       ...         ...       ...   \n",
       "1699     Zimbabwe    Africa  1987   62.351   9216418  706.157306       ZWE   \n",
       "1700     Zimbabwe    Africa  1992   60.377  10704340  693.420786       ZWE   \n",
       "1701     Zimbabwe    Africa  1997   46.809  11404948  792.449960       ZWE   \n",
       "1702     Zimbabwe    Africa  2002   39.989  11926563  672.038623       ZWE   \n",
       "1703     Zimbabwe    Africa  2007   43.487  12311143  469.709298       ZWE   \n",
       "\n",
       "      iso_num  \n",
       "0           4  \n",
       "1           4  \n",
       "2           4  \n",
       "3           4  \n",
       "4           4  \n",
       "...       ...  \n",
       "1699      716  \n",
       "1700      716  \n",
       "1701      716  \n",
       "1702      716  \n",
       "1703      716  \n",
       "\n",
       "[1704 rows x 8 columns]"
      ]
     },
     "execution_count": 2,
     "metadata": {},
     "output_type": "execute_result"
    }
   ],
   "source": [
    "pd.read_csv('../data/gapminder.csv')"
   ]
  },
  {
   "cell_type": "code",
   "execution_count": null,
   "id": "522edc2b",
   "metadata": {
    "execution": {
     "iopub.execute_input": "2024-06-15T23:13:10.155678Z",
     "iopub.status.busy": "2024-06-15T23:13:10.155337Z",
     "iopub.status.idle": "2024-06-15T23:13:10.168154Z",
     "shell.execute_reply": "2024-06-15T23:13:10.167791Z"
    },
    "papermill": {
     "duration": 0.016163,
     "end_time": "2024-06-15T23:13:10.169143",
     "exception": false,
     "start_time": "2024-06-15T23:13:10.152980",
     "status": "completed"
    },
    "tags": []
   },
   "outputs": [
    {
     "data": {
      "text/html": [
       "<div>\n",
       "<style scoped>\n",
       "    .dataframe tbody tr th:only-of-type {\n",
       "        vertical-align: middle;\n",
       "    }\n",
       "\n",
       "    .dataframe tbody tr th {\n",
       "        vertical-align: top;\n",
       "    }\n",
       "\n",
       "    .dataframe thead th {\n",
       "        text-align: right;\n",
       "    }\n",
       "</style>\n",
       "<table border=\"1\" class=\"dataframe\">\n",
       "  <thead>\n",
       "    <tr style=\"text-align: right;\">\n",
       "      <th></th>\n",
       "      <th>country</th>\n",
       "      <th>continent</th>\n",
       "      <th>year</th>\n",
       "      <th>lifeExp</th>\n",
       "      <th>pop</th>\n",
       "      <th>gdpPercap</th>\n",
       "      <th>iso_alpha</th>\n",
       "      <th>iso_num</th>\n",
       "    </tr>\n",
       "  </thead>\n",
       "  <tbody>\n",
       "    <tr>\n",
       "      <th>0</th>\n",
       "      <td>Afghanistan</td>\n",
       "      <td>Asia</td>\n",
       "      <td>1952</td>\n",
       "      <td>28.801</td>\n",
       "      <td>8425333</td>\n",
       "      <td>779.445314</td>\n",
       "      <td>AFG</td>\n",
       "      <td>4</td>\n",
       "    </tr>\n",
       "    <tr>\n",
       "      <th>1</th>\n",
       "      <td>Afghanistan</td>\n",
       "      <td>Asia</td>\n",
       "      <td>1957</td>\n",
       "      <td>30.332</td>\n",
       "      <td>9240934</td>\n",
       "      <td>820.853030</td>\n",
       "      <td>AFG</td>\n",
       "      <td>4</td>\n",
       "    </tr>\n",
       "    <tr>\n",
       "      <th>...</th>\n",
       "      <td>...</td>\n",
       "      <td>...</td>\n",
       "      <td>...</td>\n",
       "      <td>...</td>\n",
       "      <td>...</td>\n",
       "      <td>...</td>\n",
       "      <td>...</td>\n",
       "      <td>...</td>\n",
       "    </tr>\n",
       "    <tr>\n",
       "      <th>1702</th>\n",
       "      <td>Zimbabwe</td>\n",
       "      <td>Africa</td>\n",
       "      <td>2002</td>\n",
       "      <td>39.989</td>\n",
       "      <td>11926563</td>\n",
       "      <td>672.038623</td>\n",
       "      <td>ZWE</td>\n",
       "      <td>716</td>\n",
       "    </tr>\n",
       "    <tr>\n",
       "      <th>1703</th>\n",
       "      <td>Zimbabwe</td>\n",
       "      <td>Africa</td>\n",
       "      <td>2007</td>\n",
       "      <td>43.487</td>\n",
       "      <td>12311143</td>\n",
       "      <td>469.709298</td>\n",
       "      <td>ZWE</td>\n",
       "      <td>716</td>\n",
       "    </tr>\n",
       "  </tbody>\n",
       "</table>\n",
       "<p>1704 rows × 8 columns</p>\n",
       "</div>"
      ],
      "text/plain": [
       "          country continent  year  lifeExp       pop   gdpPercap iso_alpha  \\\n",
       "0     Afghanistan      Asia  1952   28.801   8425333  779.445314       AFG   \n",
       "1     Afghanistan      Asia  1957   30.332   9240934  820.853030       AFG   \n",
       "...           ...       ...   ...      ...       ...         ...       ...   \n",
       "1702     Zimbabwe    Africa  2002   39.989  11926563  672.038623       ZWE   \n",
       "1703     Zimbabwe    Africa  2007   43.487  12311143  469.709298       ZWE   \n",
       "\n",
       "      iso_num  \n",
       "0           4  \n",
       "1           4  \n",
       "...       ...  \n",
       "1702      716  \n",
       "1703      716  \n",
       "\n",
       "[1704 rows x 8 columns]"
      ]
     },
     "execution_count": null,
     "metadata": {},
     "output_type": "execute_result"
    }
   ],
   "source": []
  },
  {
   "attachments": {},
   "cell_type": "markdown",
   "id": "d206527f",
   "metadata": {
    "papermill": {
     "duration": 0.000592,
     "end_time": "2024-06-15T23:13:10.170460",
     "exception": false,
     "start_time": "2024-06-15T23:13:10.169868",
     "status": "completed"
    },
    "tags": []
   },
   "source": [
    "## Data visualization"
   ]
  },
  {
   "cell_type": "code",
   "execution_count": null,
   "id": "a2f9ac1a",
   "metadata": {
    "execution": {
     "iopub.execute_input": "2024-06-15T23:13:10.172278Z",
     "iopub.status.busy": "2024-06-15T23:13:10.172175Z",
     "iopub.status.idle": "2024-06-15T23:13:10.746540Z",
     "shell.execute_reply": "2024-06-15T23:13:10.746188Z"
    },
    "papermill": {
     "duration": 0.576319,
     "end_time": "2024-06-15T23:13:10.747445",
     "exception": false,
     "start_time": "2024-06-15T23:13:10.171126",
     "status": "completed"
    },
    "tags": []
   },
   "outputs": [
    {
     "data": {
      "image/svg+xml": [
       "<svg class=\"main-svg\" xmlns=\"http://www.w3.org/2000/svg\" xmlns:xlink=\"http://www.w3.org/1999/xlink\" width=\"700\" height=\"500\" style=\"\" viewBox=\"0 0 700 500\"><rect x=\"0\" y=\"0\" width=\"700\" height=\"500\" style=\"fill: rgb(255, 255, 255); fill-opacity: 1;\"/><defs id=\"defs-cfb8fa\"><g class=\"clips\"><clipPath id=\"clipcfb8faxyplot\" class=\"plotclip\"><rect width=\"497\" height=\"286\"/></clipPath><clipPath class=\"axesclip\" id=\"clipcfb8fax\"><rect x=\"80\" y=\"0\" width=\"497\" height=\"500\"/></clipPath><clipPath class=\"axesclip\" id=\"clipcfb8fay\"><rect x=\"0\" y=\"60\" width=\"700\" height=\"286\"/></clipPath><clipPath class=\"axesclip\" id=\"clipcfb8faxy\"><rect x=\"80\" y=\"60\" width=\"497\" height=\"286\"/></clipPath></g><g class=\"gradients\"/><g class=\"patterns\"/></defs><g class=\"bglayer\"><rect class=\"bg\" x=\"80\" y=\"60\" width=\"497\" height=\"286\" style=\"fill: rgb(229, 236, 246); fill-opacity: 1; stroke-width: 0;\"/></g><g class=\"layer-below\"><g class=\"imagelayer\"/><g class=\"shapelayer\"/></g><g class=\"cartesianlayer\"><g class=\"subplot xy\"><g class=\"layer-subplot\"><g class=\"shapelayer\"/><g class=\"imagelayer\"/></g><g class=\"minor-gridlayer\"><g class=\"x\"/><g class=\"y\"/></g><g class=\"gridlayer\"><g class=\"x\"><path class=\"xgrid crisp\" transform=\"translate(129.87,0)\" d=\"M0,60v286\" style=\"stroke: rgb(255, 255, 255); stroke-opacity: 1; stroke-width: 1px;\"/><path class=\"xgrid crisp\" transform=\"translate(195.8,0)\" d=\"M0,60v286\" style=\"stroke: rgb(255, 255, 255); stroke-opacity: 1; stroke-width: 1px;\"/><path class=\"xgrid crisp\" transform=\"translate(245.67,0)\" d=\"M0,60v286\" style=\"stroke: rgb(255, 255, 255); stroke-opacity: 1; stroke-width: 1px;\"/><path class=\"xgrid crisp\" transform=\"translate(295.53999999999996,0)\" d=\"M0,60v286\" style=\"stroke: rgb(255, 255, 255); stroke-opacity: 1; stroke-width: 1px;\"/><path class=\"xgrid crisp\" transform=\"translate(361.46,0)\" d=\"M0,60v286\" style=\"stroke: rgb(255, 255, 255); stroke-opacity: 1; stroke-width: 1px;\"/><path class=\"xgrid crisp\" transform=\"translate(411.33,0)\" d=\"M0,60v286\" style=\"stroke: rgb(255, 255, 255); stroke-opacity: 1; stroke-width: 1px;\"/><path class=\"xgrid crisp\" transform=\"translate(461.2,0)\" d=\"M0,60v286\" style=\"stroke: rgb(255, 255, 255); stroke-opacity: 1; stroke-width: 1px;\"/><path class=\"xgrid crisp\" transform=\"translate(527.13,0)\" d=\"M0,60v286\" style=\"stroke: rgb(255, 255, 255); stroke-opacity: 1; stroke-width: 1px;\"/></g><g class=\"y\"><path class=\"ygrid crisp\" transform=\"translate(0,324)\" d=\"M80,0h497\" style=\"stroke: rgb(255, 255, 255); stroke-opacity: 1; stroke-width: 1px;\"/><path class=\"ygrid crisp\" transform=\"translate(0,280)\" d=\"M80,0h497\" style=\"stroke: rgb(255, 255, 255); stroke-opacity: 1; stroke-width: 1px;\"/><path class=\"ygrid crisp\" transform=\"translate(0,236)\" d=\"M80,0h497\" style=\"stroke: rgb(255, 255, 255); stroke-opacity: 1; stroke-width: 1px;\"/><path class=\"ygrid crisp\" transform=\"translate(0,192)\" d=\"M80,0h497\" style=\"stroke: rgb(255, 255, 255); stroke-opacity: 1; stroke-width: 1px;\"/><path class=\"ygrid crisp\" transform=\"translate(0,148)\" d=\"M80,0h497\" style=\"stroke: rgb(255, 255, 255); stroke-opacity: 1; stroke-width: 1px;\"/><path class=\"ygrid crisp\" transform=\"translate(0,104)\" d=\"M80,0h497\" style=\"stroke: rgb(255, 255, 255); stroke-opacity: 1; stroke-width: 1px;\"/></g></g><g class=\"zerolinelayer\"/><g class=\"layer-between\"><g class=\"shapelayer\"/><g class=\"imagelayer\"/></g><path class=\"xlines-below\"/><path class=\"ylines-below\"/><g class=\"overlines-below\"/><g class=\"xaxislayer-below\"/><g class=\"yaxislayer-below\"/><g class=\"overaxes-below\"/><g class=\"plot\" transform=\"translate(80,60)\" clip-path=\"url(#clipcfb8faxyplot)\"><g class=\"scatterlayer mlayer\"><g class=\"trace scatter trace409057\" style=\"stroke-miterlimit: 2; opacity: 1;\"><g class=\"fills\"/><g class=\"errorbars\"/><g class=\"lines\"/><g class=\"points\"><path class=\"point\" transform=\"translate(147.74,269.28)\" d=\"M3.11,0A3.11,3.11 0 1,1 0,-3.11A3.11,3.11 0 0,1 3.11,0Z\" style=\"opacity: 0.7; stroke-width: 1px; fill: rgb(99, 110, 250); fill-opacity: 1; stroke: rgb(255, 255, 255); stroke-opacity: 1;\"/><path class=\"point\" transform=\"translate(330.37,171.87)\" d=\"M0.37,0A0.37,0.37 0 1,1 0,-0.37A0.37,0.37 0 0,1 0.37,0Z\" style=\"opacity: 0.7; stroke-width: 1px; fill: rgb(99, 110, 250); fill-opacity: 1; stroke: rgb(255, 255, 255); stroke-opacity: 1;\"/><path class=\"point\" transform=\"translate(138.37,231.07)\" d=\"M7.33,0A7.33,7.33 0 1,1 0,-7.33A7.33,7.33 0 0,1 7.33,0Z\" style=\"opacity: 0.7; stroke-width: 1px; fill: rgb(99, 110, 250); fill-opacity: 1; stroke: rgb(255, 255, 255); stroke-opacity: 1;\"/><path class=\"point\" transform=\"translate(93.83,222.57)\" d=\"M2.32,0A2.32,2.32 0 1,1 0,-2.32A2.32,2.32 0 0,1 2.32,0Z\" style=\"opacity: 0.7; stroke-width: 1px; fill: rgb(99, 110, 250); fill-opacity: 1; stroke: rgb(255, 255, 255); stroke-opacity: 1;\"/><path class=\"point\" transform=\"translate(99.82,202.4)\" d=\"M25.26,0A25.26,25.26 0 1,1 0,-25.26A25.26,25.26 0 0,1 25.26,0Z\" style=\"opacity: 0.7; stroke-width: 1px; fill: rgb(99, 110, 250); fill-opacity: 1; stroke: rgb(255, 255, 255); stroke-opacity: 1;\"/><path class=\"point\" transform=\"translate(246,127.78)\" d=\"M1.56,0A1.56,1.56 0 1,1 0,-1.56A1.56,1.56 0 0,1 1.56,0Z\" style=\"opacity: 0.7; stroke-width: 1px; fill: rgb(99, 110, 250); fill-opacity: 1; stroke: rgb(255, 255, 255); stroke-opacity: 1;\"/><path class=\"point\" transform=\"translate(122.2,231.56)\" d=\"M20.66,0A20.66,20.66 0 1,1 0,-20.66A20.66,20.66 0 0,1 20.66,0Z\" style=\"opacity: 0.7; stroke-width: 1px; fill: rgb(99, 110, 250); fill-opacity: 1; stroke: rgb(255, 255, 255); stroke-opacity: 1;\"/><path class=\"point\" transform=\"translate(144.94,231.14)\" d=\"M9.7,0A9.7,9.7 0 1,1 0,-9.7A9.7,9.7 0 0,1 9.7,0Z\" style=\"opacity: 0.7; stroke-width: 1px; fill: rgb(99, 110, 250); fill-opacity: 1; stroke: rgb(255, 255, 255); stroke-opacity: 1;\"/><path class=\"point\" transform=\"translate(245.55,198.58)\" d=\"M4.45,0A4.45,4.45 0 1,1 0,-4.45A4.45,4.45 0 0,1 4.45,0Z\" style=\"opacity: 0.7; stroke-width: 1px; fill: rgb(99, 110, 250); fill-opacity: 1; stroke: rgb(255, 255, 255); stroke-opacity: 1;\"/><path class=\"point\" transform=\"translate(267.7,196.59)\" d=\"M2.5,0A2.5,2.5 0 1,1 0,-2.5A2.5,2.5 0 0,1 2.5,0Z\" style=\"opacity: 0.7; stroke-width: 1px; fill: rgb(99, 110, 250); fill-opacity: 1; stroke: rgb(255, 255, 255); stroke-opacity: 1;\"/><path class=\"point\" transform=\"translate(266.95,108.28)\" d=\"M1.36,0A1.36,1.36 0 1,1 0,-1.36A1.36,1.36 0 0,1 1.36,0Z\" style=\"opacity: 0.7; stroke-width: 1px; fill: rgb(99, 110, 250); fill-opacity: 1; stroke: rgb(255, 255, 255); stroke-opacity: 1;\"/><path class=\"point\" transform=\"translate(249.73,118.67)\" d=\"M9.96,0A9.96,9.96 0 1,1 0,-9.96A9.96,9.96 0 0,1 9.96,0Z\" style=\"opacity: 0.7; stroke-width: 1px; fill: rgb(99, 110, 250); fill-opacity: 1; stroke: rgb(255, 255, 255); stroke-opacity: 1;\"/><path class=\"point\" transform=\"translate(197.05,206.1)\" d=\"M0.84,0A0.84,0.84 0 1,1 0,-0.84A0.84,0.84 0 0,1 0.84,0Z\" style=\"opacity: 0.7; stroke-width: 1px; fill: rgb(99, 110, 250); fill-opacity: 1; stroke: rgb(255, 255, 255); stroke-opacity: 1;\"/><path class=\"point\" transform=\"translate(171.75,175.75)\" d=\"M3.19,0A3.19,3.19 0 1,1 0,-3.19A3.19,3.19 0 0,1 3.19,0Z\" style=\"opacity: 0.7; stroke-width: 1px; fill: rgb(99, 110, 250); fill-opacity: 1; stroke: rgb(255, 255, 255); stroke-opacity: 1;\"/><path class=\"point\" transform=\"translate(167.83,187.21)\" d=\"M4.9,0A4.9,4.9 0 1,1 0,-4.9A4.9,4.9 0 0,1 4.9,0Z\" style=\"opacity: 0.7; stroke-width: 1px; fill: rgb(99, 110, 250); fill-opacity: 1; stroke: rgb(255, 255, 255); stroke-opacity: 1;\"/><path class=\"point\" transform=\"translate(502.79,151.51)\" d=\"M0.43,0A0.43,0.43 0 1,1 0,-0.43A0.43,0.43 0 0,1 0.43,0Z\" style=\"opacity: 0.7; stroke-width: 1px; fill: rgb(99, 110, 250); fill-opacity: 1; stroke: rgb(255, 255, 255); stroke-opacity: 1;\"/><path class=\"point\" transform=\"translate(279.05,149.92)\" d=\"M1.28,0A1.28,1.28 0 1,1 0,-1.28A1.28,1.28 0 0,1 1.28,0Z\" style=\"opacity: 0.7; stroke-width: 1px; fill: rgb(99, 110, 250); fill-opacity: 1; stroke: rgb(255, 255, 255); stroke-opacity: 1;\"/><path class=\"point\" transform=\"translate(209.19,182.76)\" d=\"M2.78,0A2.78,2.78 0 1,1 0,-2.78A2.78,2.78 0 0,1 2.78,0Z\" style=\"opacity: 0.7; stroke-width: 1px; fill: rgb(99, 110, 250); fill-opacity: 1; stroke: rgb(255, 255, 255); stroke-opacity: 1;\"/><path class=\"point\" transform=\"translate(148.39,210.13)\" d=\"M0.96,0A0.96,0.96 0 1,1 0,-0.96A0.96,0.96 0 0,1 0.96,0Z\" style=\"opacity: 0.7; stroke-width: 1px; fill: rgb(99, 110, 250); fill-opacity: 1; stroke: rgb(255, 255, 255); stroke-opacity: 1;\"/><path class=\"point\" transform=\"translate(86.12,236.2)\" d=\"M4.8,0A4.8,4.8 0 1,1 0,-4.8A4.8,4.8 0 0,1 4.8,0Z\" style=\"opacity: 0.7; stroke-width: 1px; fill: rgb(99, 110, 250); fill-opacity: 1; stroke: rgb(255, 255, 255); stroke-opacity: 1;\"/><path class=\"point\" transform=\"translate(122.11,236.91)\" d=\"M3.25,0A3.25,3.25 0 1,1 0,-3.25A3.25,3.25 0 0,1 3.25,0Z\" style=\"opacity: 0.7; stroke-width: 1px; fill: rgb(99, 110, 250); fill-opacity: 1; stroke: rgb(255, 255, 255); stroke-opacity: 1;\"/><path class=\"point\" transform=\"translate(209.08,230.66)\" d=\"M0.76,0A0.76,0.76 0 1,1 0,-0.76A0.76,0.76 0 0,1 0.76,0Z\" style=\"opacity: 0.7; stroke-width: 1px; fill: rgb(99, 110, 250); fill-opacity: 1; stroke: rgb(255, 255, 255); stroke-opacity: 1;\"/><path class=\"point\" transform=\"translate(138.4,204.88)\" d=\"M6.89,0A6.89,6.89 0 1,1 0,-6.89A6.89,6.89 0 0,1 6.89,0Z\" style=\"opacity: 0.7; stroke-width: 1px; fill: rgb(99, 110, 250); fill-opacity: 1; stroke: rgb(255, 255, 255); stroke-opacity: 1;\"/><path class=\"point\" transform=\"translate(183.03,185.89)\" d=\"M5.07,0A5.07,5.07 0 1,1 0,-5.07A5.07,5.07 0 0,1 5.07,0Z\" style=\"opacity: 0.7; stroke-width: 1px; fill: rgb(99, 110, 250); fill-opacity: 1; stroke: rgb(255, 255, 255); stroke-opacity: 1;\"/><path class=\"point\" transform=\"translate(299.89,220.55)\" d=\"M2.14,0A2.14,2.14 0 1,1 0,-2.14A2.14,2.14 0 0,1 2.14,0Z\" style=\"opacity: 0.7; stroke-width: 1px; fill: rgb(99, 110, 250); fill-opacity: 1; stroke: rgb(255, 255, 255); stroke-opacity: 1;\"/><path class=\"point\" transform=\"translate(226.06,130.26)\" d=\"M1.14,0A1.14,1.14 0 1,1 0,-1.14A1.14,1.14 0 0,1 1.14,0Z\" style=\"opacity: 0.7; stroke-width: 1px; fill: rgb(99, 110, 250); fill-opacity: 1; stroke: rgb(255, 255, 255); stroke-opacity: 1;\"/><path class=\"point\" transform=\"translate(171.44,142.59)\" d=\"M3.03,0A3.03,3.03 0 1,1 0,-3.03A3.03,3.03 0 0,1 3.03,0Z\" style=\"opacity: 0.7; stroke-width: 1px; fill: rgb(99, 110, 250); fill-opacity: 1; stroke: rgb(255, 255, 255); stroke-opacity: 1;\"/><path class=\"point\" transform=\"translate(201.41,194.11)\" d=\"M2.05,0A2.05,2.05 0 1,1 0,-2.05A2.05,2.05 0 0,1 2.05,0Z\" style=\"opacity: 0.7; stroke-width: 1px; fill: rgb(99, 110, 250); fill-opacity: 1; stroke: rgb(255, 255, 255); stroke-opacity: 1;\"/><path class=\"point\" transform=\"translate(179.2,138.6)\" d=\"M3.13,0A3.13,3.13 0 1,1 0,-3.13A3.13,3.13 0 0,1 3.13,0Z\" style=\"opacity: 0.7; stroke-width: 1px; fill: rgb(99, 110, 250); fill-opacity: 1; stroke: rgb(255, 255, 255); stroke-opacity: 1;\"/><path class=\"point\" transform=\"translate(145.71,172.27)\" d=\"M4.94,0A4.94,4.94 0 1,1 0,-4.94A4.94,4.94 0 0,1 4.94,0Z\" style=\"opacity: 0.7; stroke-width: 1px; fill: rgb(99, 110, 250); fill-opacity: 1; stroke: rgb(255, 255, 255); stroke-opacity: 1;\"/><path class=\"point\" transform=\"translate(129.52,218.19)\" d=\"M5.49,0A5.49,5.49 0 1,1 0,-5.49A5.49,5.49 0 0,1 5.49,0Z\" style=\"opacity: 0.7; stroke-width: 1px; fill: rgb(99, 110, 250); fill-opacity: 1; stroke: rgb(255, 255, 255); stroke-opacity: 1;\"/><path class=\"point\" transform=\"translate(195.58,206.1)\" d=\"M1.09,0A1.09,1.09 0 1,1 0,-1.09A1.09,1.09 0 0,1 1.09,0Z\" style=\"opacity: 0.7; stroke-width: 1px; fill: rgb(99, 110, 250); fill-opacity: 1; stroke: rgb(255, 255, 255); stroke-opacity: 1;\"/><path class=\"point\" transform=\"translate(147.95,252.79)\" d=\"M2.39,0A2.39,2.39 0 1,1 0,-2.39A2.39,2.39 0 0,1 2.39,0Z\" style=\"opacity: 0.7; stroke-width: 1px; fill: rgb(99, 110, 250); fill-opacity: 1; stroke: rgb(255, 255, 255); stroke-opacity: 1;\"/></g><g class=\"text\"/></g><g class=\"trace scatter tracea061ef\" style=\"stroke-miterlimit: 2; opacity: 1;\"><g class=\"fills\"/><g class=\"errorbars\"/><g class=\"lines\"/><g class=\"points\"><path class=\"point\" transform=\"translate(199.53,152.99)\" d=\"M1.21,0A1.21,1.21 0 1,1 0,-1.21A1.21,1.21 0 0,1 1.21,0Z\" style=\"opacity: 0.7; stroke-width: 1px; fill: rgb(239, 85, 59); fill-opacity: 1; stroke: rgb(255, 255, 255); stroke-opacity: 1;\"/><path class=\"point\" transform=\"translate(296.21,102.08)\" d=\"M2.82,0A2.82,2.82 0 1,1 0,-2.82A2.82,2.82 0 0,1 2.82,0Z\" style=\"opacity: 0.7; stroke-width: 1px; fill: rgb(239, 85, 59); fill-opacity: 1; stroke: rgb(255, 255, 255); stroke-opacity: 1;\"/><path class=\"point\" transform=\"translate(318.3,96.8)\" d=\"M3.16,0A3.16,3.16 0 1,1 0,-3.16A3.16,3.16 0 0,1 3.16,0Z\" style=\"opacity: 0.7; stroke-width: 1px; fill: rgb(239, 85, 59); fill-opacity: 1; stroke: rgb(255, 255, 255); stroke-opacity: 1;\"/><path class=\"point\" transform=\"translate(163.74,159.19)\" d=\"M1.79,0A1.79,1.79 0 1,1 0,-1.79A1.79,1.79 0 0,1 1.79,0Z\" style=\"opacity: 0.7; stroke-width: 1px; fill: rgb(239, 85, 59); fill-opacity: 1; stroke: rgb(255, 255, 255); stroke-opacity: 1;\"/><path class=\"point\" transform=\"translate(229.97,133.76)\" d=\"M2.89,0A2.89,2.89 0 1,1 0,-2.89A2.89,2.89 0 0,1 2.89,0Z\" style=\"opacity: 0.7; stroke-width: 1px; fill: rgb(239, 85, 59); fill-opacity: 1; stroke: rgb(255, 255, 255); stroke-opacity: 1;\"/><path class=\"point\" transform=\"translate(247.51,126.68)\" d=\"M2.11,0A2.11,2.11 0 1,1 0,-2.11A2.11,2.11 0 0,1 2.11,0Z\" style=\"opacity: 0.7; stroke-width: 1px; fill: rgb(239, 85, 59); fill-opacity: 1; stroke: rgb(255, 255, 255); stroke-opacity: 1;\"/><path class=\"point\" transform=\"translate(304.39,101.77)\" d=\"M3.24,0A3.24,3.24 0 1,1 0,-3.24A3.24,3.24 0 0,1 3.24,0Z\" style=\"opacity: 0.7; stroke-width: 1px; fill: rgb(239, 85, 59); fill-opacity: 1; stroke: rgb(255, 255, 255); stroke-opacity: 1;\"/><path class=\"point\" transform=\"translate(329.09,84.57)\" d=\"M2.23,0A2.23,2.23 0 1,1 0,-2.23A2.23,2.23 0 0,1 2.23,0Z\" style=\"opacity: 0.7; stroke-width: 1px; fill: rgb(239, 85, 59); fill-opacity: 1; stroke: rgb(255, 255, 255); stroke-opacity: 1;\"/><path class=\"point\" transform=\"translate(299.5,103.18)\" d=\"M2.17,0A2.17,2.17 0 1,1 0,-2.17A2.17,2.17 0 0,1 2.17,0Z\" style=\"opacity: 0.7; stroke-width: 1px; fill: rgb(239, 85, 59); fill-opacity: 1; stroke: rgb(255, 255, 255); stroke-opacity: 1;\"/><path class=\"point\" transform=\"translate(305.98,99.4)\" d=\"M6.98,0A6.98,6.98 0 1,1 0,-6.98A6.98,6.98 0 0,1 6.98,0Z\" style=\"opacity: 0.7; stroke-width: 1px; fill: rgb(239, 85, 59); fill-opacity: 1; stroke: rgb(255, 255, 255); stroke-opacity: 1;\"/><path class=\"point\" transform=\"translate(307.14,99)\" d=\"M8.91,0A8.91,8.91 0 1,1 0,-8.91A8.91,8.91 0 0,1 8.91,0Z\" style=\"opacity: 0.7; stroke-width: 1px; fill: rgb(239, 85, 59); fill-opacity: 1; stroke: rgb(255, 255, 255); stroke-opacity: 1;\"/><path class=\"point\" transform=\"translate(256.43,106.22)\" d=\"M2.98,0A2.98,2.98 0 1,1 0,-2.98A2.98,2.98 0 0,1 2.98,0Z\" style=\"opacity: 0.7; stroke-width: 1px; fill: rgb(239, 85, 59); fill-opacity: 1; stroke: rgb(255, 255, 255); stroke-opacity: 1;\"/><path class=\"point\" transform=\"translate(285.16,114.27)\" d=\"M3.3,0A3.3,3.3 0 1,1 0,-3.3A3.3,3.3 0 0,1 3.3,0Z\" style=\"opacity: 0.7; stroke-width: 1px; fill: rgb(239, 85, 59); fill-opacity: 1; stroke: rgb(255, 255, 255); stroke-opacity: 1;\"/><path class=\"point\" transform=\"translate(308.37,77.04)\" d=\"M0.41,0A0.41,0.41 0 1,1 0,-0.41A0.41,0.41 0 0,1 0.41,0Z\" style=\"opacity: 0.7; stroke-width: 1px; fill: rgb(239, 85, 59); fill-opacity: 1; stroke: rgb(255, 255, 255); stroke-opacity: 1;\"/><path class=\"point\" transform=\"translate(284.43,101.6)\" d=\"M1.84,0A1.84,1.84 0 1,1 0,-1.84A1.84,1.84 0 0,1 1.84,0Z\" style=\"opacity: 0.7; stroke-width: 1px; fill: rgb(239, 85, 59); fill-opacity: 1; stroke: rgb(255, 255, 255); stroke-opacity: 1;\"/><path class=\"point\" transform=\"translate(280.47,105.86)\" d=\"M7.39,0A7.39,7.39 0 1,1 0,-7.39A7.39,7.39 0 0,1 7.39,0Z\" style=\"opacity: 0.7; stroke-width: 1px; fill: rgb(239, 85, 59); fill-opacity: 1; stroke: rgb(255, 255, 255); stroke-opacity: 1;\"/><path class=\"point\" transform=\"translate(235.72,135.68)\" d=\"M0.69,0A0.69,0.69 0 1,1 0,-0.69A0.69,0.69 0 0,1 0.69,0Z\" style=\"opacity: 0.7; stroke-width: 1px; fill: rgb(239, 85, 59); fill-opacity: 1; stroke: rgb(255, 255, 255); stroke-opacity: 1;\"/><path class=\"point\" transform=\"translate(323.28,78.63)\" d=\"M3.45,0A3.45,3.45 0 1,1 0,-3.45A3.45,3.45 0 0,1 3.45,0Z\" style=\"opacity: 0.7; stroke-width: 1px; fill: rgb(239, 85, 59); fill-opacity: 1; stroke: rgb(255, 255, 255); stroke-opacity: 1;\"/><path class=\"point\" transform=\"translate(332.02,76.25)\" d=\"M1.95,0A1.95,1.95 0 1,1 0,-1.95A1.95,1.95 0 0,1 1.95,0Z\" style=\"opacity: 0.7; stroke-width: 1px; fill: rgb(239, 85, 59); fill-opacity: 1; stroke: rgb(255, 255, 255); stroke-opacity: 1;\"/><path class=\"point\" transform=\"translate(265.93,126.24)\" d=\"M5.43,0A5.43,5.43 0 1,1 0,-5.43A5.43,5.43 0 0,1 5.43,0Z\" style=\"opacity: 0.7; stroke-width: 1px; fill: rgb(239, 85, 59); fill-opacity: 1; stroke: rgb(255, 255, 255); stroke-opacity: 1;\"/><path class=\"point\" transform=\"translate(246.33,132.79)\" d=\"M3.13,0A3.13,3.13 0 1,1 0,-3.13A3.13,3.13 0 0,1 3.13,0Z\" style=\"opacity: 0.7; stroke-width: 1px; fill: rgb(239, 85, 59); fill-opacity: 1; stroke: rgb(255, 255, 255); stroke-opacity: 1;\"/><path class=\"point\" transform=\"translate(248.1,127.38)\" d=\"M4.37,0A4.37,4.37 0 1,1 0,-4.37A4.37,4.37 0 0,1 4.37,0Z\" style=\"opacity: 0.7; stroke-width: 1px; fill: rgb(239, 85, 59); fill-opacity: 1; stroke: rgb(255, 255, 255); stroke-opacity: 1;\"/><path class=\"point\" transform=\"translate(257.46,140.82)\" d=\"M2.81,0A2.81,2.81 0 1,1 0,-2.81A2.81,2.81 0 0,1 2.81,0Z\" style=\"opacity: 0.7; stroke-width: 1px; fill: rgb(239, 85, 59); fill-opacity: 1; stroke: rgb(255, 255, 255); stroke-opacity: 1;\"/><path class=\"point\" transform=\"translate(282.53,112.82)\" d=\"M2.02,0A2.02,2.02 0 1,1 0,-2.02A2.02,2.02 0 0,1 2.02,0Z\" style=\"opacity: 0.7; stroke-width: 1px; fill: rgb(239, 85, 59); fill-opacity: 1; stroke: rgb(255, 255, 255); stroke-opacity: 1;\"/><path class=\"point\" transform=\"translate(269.18,107.49)\" d=\"M1.31,0A1.31,1.31 0 1,1 0,-1.31A1.31,1.31 0 0,1 1.31,0Z\" style=\"opacity: 0.7; stroke-width: 1px; fill: rgb(239, 85, 59); fill-opacity: 1; stroke: rgb(255, 255, 255); stroke-opacity: 1;\"/><path class=\"point\" transform=\"translate(262.36,110.26)\" d=\"M5.72,0A5.72,5.72 0 1,1 0,-5.72A5.72,5.72 0 0,1 5.72,0Z\" style=\"opacity: 0.7; stroke-width: 1px; fill: rgb(239, 85, 59); fill-opacity: 1; stroke: rgb(255, 255, 255); stroke-opacity: 1;\"/><path class=\"point\" transform=\"translate(319.88,79.82)\" d=\"M2.86,0A2.86,2.86 0 1,1 0,-2.86A2.86,2.86 0 0,1 2.86,0Z\" style=\"opacity: 0.7; stroke-width: 1px; fill: rgb(239, 85, 59); fill-opacity: 1; stroke: rgb(255, 255, 255); stroke-opacity: 1;\"/><path class=\"point\" transform=\"translate(359.22,89.67)\" d=\"M2.35,0A2.35,2.35 0 1,1 0,-2.35A2.35,2.35 0 0,1 2.35,0Z\" style=\"opacity: 0.7; stroke-width: 1px; fill: rgb(239, 85, 59); fill-opacity: 1; stroke: rgb(255, 255, 255); stroke-opacity: 1;\"/><path class=\"point\" transform=\"translate(214.42,204.23)\" d=\"M5.05,0A5.05,5.05 0 1,1 0,-5.05A5.05,5.05 0 0,1 5.05,0Z\" style=\"opacity: 0.7; stroke-width: 1px; fill: rgb(239, 85, 59); fill-opacity: 1; stroke: rgb(255, 255, 255); stroke-opacity: 1;\"/><path class=\"point\" transform=\"translate(331.19,91.61)\" d=\"M7.61,0A7.61,7.61 0 1,1 0,-7.61A7.61,7.61 0 0,1 7.61,0Z\" style=\"opacity: 0.7; stroke-width: 1px; fill: rgb(239, 85, 59); fill-opacity: 1; stroke: rgb(255, 255, 255); stroke-opacity: 1;\"/></g><g class=\"text\"/></g><g class=\"trace scatter tracecad08a\" style=\"stroke-miterlimit: 2; opacity: 1;\"><g class=\"fills\"/><g class=\"errorbars\"/><g class=\"lines\"/><g class=\"points\"><path class=\"point\" transform=\"translate(230.11,206.46)\" d=\"M3.26,0A3.26,3.26 0 1,1 0,-3.26A3.26,3.26 0 0,1 3.26,0Z\" style=\"opacity: 0.7; stroke-width: 1px; fill: rgb(0, 204, 150); fill-opacity: 1; stroke: rgb(255, 255, 255); stroke-opacity: 1;\"/><path class=\"point\" transform=\"translate(256.22,263.93)\" d=\"M2.2,0A2.2,2.2 0 1,1 0,-2.2A2.2,2.2 0 0,1 2.2,0Z\" style=\"opacity: 0.7; stroke-width: 1px; fill: rgb(0, 204, 150); fill-opacity: 1; stroke: rgb(255, 255, 255); stroke-opacity: 1;\"/><path class=\"point\" transform=\"translate(170.05,227.82)\" d=\"M1.41,0A1.41,1.41 0 1,1 0,-1.41A1.41,1.41 0 0,1 1.41,0Z\" style=\"opacity: 0.7; stroke-width: 1px; fill: rgb(0, 204, 150); fill-opacity: 1; stroke: rgb(255, 255, 255); stroke-opacity: 1;\"/><path class=\"point\" transform=\"translate(154.08,186.46)\" d=\"M0.71,0A0.71,0.71 0 1,1 0,-0.71A0.71,0.71 0 0,1 0.71,0Z\" style=\"opacity: 0.7; stroke-width: 1px; fill: rgb(0, 204, 150); fill-opacity: 1; stroke: rgb(255, 255, 255); stroke-opacity: 1;\"/><path class=\"point\" transform=\"translate(121.77,255.31)\" d=\"M2.26,0A2.26,2.26 0 1,1 0,-2.26A2.26,2.26 0 0,1 2.26,0Z\" style=\"opacity: 0.7; stroke-width: 1px; fill: rgb(0, 204, 150); fill-opacity: 1; stroke: rgb(255, 255, 255); stroke-opacity: 1;\"/><path class=\"point\" transform=\"translate(87.9,224.26)\" d=\"M1.67,0A1.67,1.67 0 1,1 0,-1.67A1.67,1.67 0 0,1 1.67,0Z\" style=\"opacity: 0.7; stroke-width: 1px; fill: rgb(0, 204, 150); fill-opacity: 1; stroke: rgb(255, 255, 255); stroke-opacity: 1;\"/><path class=\"point\" transform=\"translate(177.13,226.5)\" d=\"M2.4,0A2.4,2.4 0 1,1 0,-2.4A2.4,2.4 0 0,1 2.4,0Z\" style=\"opacity: 0.7; stroke-width: 1px; fill: rgb(0, 204, 150); fill-opacity: 1; stroke: rgb(255, 255, 255); stroke-opacity: 1;\"/><path class=\"point\" transform=\"translate(170.62,239.96)\" d=\"M1.22,0A1.22,1.22 0 1,1 0,-1.22A1.22,1.22 0 0,1 1.22,0Z\" style=\"opacity: 0.7; stroke-width: 1px; fill: rgb(0, 204, 150); fill-opacity: 1; stroke: rgb(255, 255, 255); stroke-opacity: 1;\"/><path class=\"point\" transform=\"translate(177.49,228.4)\" d=\"M1.75,0A1.75,1.75 0 1,1 0,-1.75A1.75,1.75 0 0,1 1.75,0Z\" style=\"opacity: 0.7; stroke-width: 1px; fill: rgb(0, 204, 150); fill-opacity: 1; stroke: rgb(255, 255, 255); stroke-opacity: 1;\"/><path class=\"point\" transform=\"translate(172.72,216.85)\" d=\"M0.42,0A0.42,0.42 0 1,1 0,-0.42A0.42,0.42 0 0,1 0.42,0Z\" style=\"opacity: 0.7; stroke-width: 1px; fill: rgb(0, 204, 150); fill-opacity: 1; stroke: rgb(255, 255, 255); stroke-opacity: 1;\"/><path class=\"point\" transform=\"translate(147.84,223.77)\" d=\"M4.02,0A4.02,4.02 0 1,1 0,-4.02A4.02,4.02 0 0,1 4.02,0Z\" style=\"opacity: 0.7; stroke-width: 1px; fill: rgb(0, 204, 150); fill-opacity: 1; stroke: rgb(255, 255, 255); stroke-opacity: 1;\"/><path class=\"point\" transform=\"translate(219.92,210.71)\" d=\"M0.99,0A0.99,0.99 0 1,1 0,-0.99A0.99,0.99 0 0,1 0.99,0Z\" style=\"opacity: 0.7; stroke-width: 1px; fill: rgb(0, 204, 150); fill-opacity: 1; stroke: rgb(255, 255, 255); stroke-opacity: 1;\"/><path class=\"point\" transform=\"translate(189.29,217.9)\" d=\"M1.85,0A1.85,1.85 0 1,1 0,-1.85A1.85,1.85 0 0,1 1.85,0Z\" style=\"opacity: 0.7; stroke-width: 1px; fill: rgb(0, 204, 150); fill-opacity: 1; stroke: rgb(255, 255, 255); stroke-opacity: 1;\"/><path class=\"point\" transform=\"translate(236.31,242.83)\" d=\"M0.27,0A0.27,0.27 0 1,1 0,-0.27A0.27,0.27 0 0,1 0.27,0Z\" style=\"opacity: 0.7; stroke-width: 1px; fill: rgb(0, 204, 150); fill-opacity: 1; stroke: rgb(255, 255, 255); stroke-opacity: 1;\"/><path class=\"point\" transform=\"translate(190.84,211.67)\" d=\"M5.05,0A5.05,5.05 0 1,1 0,-5.05A5.05,5.05 0 0,1 5.05,0Z\" style=\"opacity: 0.7; stroke-width: 1px; fill: rgb(0, 204, 150); fill-opacity: 1; stroke: rgb(255, 255, 255); stroke-opacity: 1;\"/><path class=\"point\" transform=\"translate(95.22,244.28)\" d=\"M0.5,0A0.5,0.5 0 1,1 0,-0.5A0.5,0.5 0 0,1 0.5,0Z\" style=\"opacity: 0.7; stroke-width: 1px; fill: rgb(0, 204, 150); fill-opacity: 1; stroke: rgb(255, 255, 255); stroke-opacity: 1;\"/><path class=\"point\" transform=\"translate(85.67,237.92)\" d=\"M1.28,0A1.28,1.28 0 1,1 0,-1.28A1.28,1.28 0 0,1 1.28,0Z\" style=\"opacity: 0.7; stroke-width: 1px; fill: rgb(0, 204, 150); fill-opacity: 1; stroke: rgb(255, 255, 255); stroke-opacity: 1;\"/><path class=\"point\" transform=\"translate(92.59,246.06)\" d=\"M4.89,0A4.89,4.89 0 1,1 0,-4.89A4.89,4.89 0 0,1 4.89,0Z\" style=\"opacity: 0.7; stroke-width: 1px; fill: rgb(0, 204, 150); fill-opacity: 1; stroke: rgb(255, 255, 255); stroke-opacity: 1;\"/><path class=\"point\" transform=\"translate(270.5,233.19)\" d=\"M0.69,0A0.69,0.69 0 1,1 0,-0.69A0.69,0.69 0 0,1 0.69,0Z\" style=\"opacity: 0.7; stroke-width: 1px; fill: rgb(0, 204, 150); fill-opacity: 1; stroke: rgb(255, 255, 255); stroke-opacity: 1;\"/><path class=\"point\" transform=\"translate(113.64,264)\" d=\"M0.57,0A0.57,0.57 0 1,1 0,-0.57A0.57,0.57 0 0,1 0.57,0Z\" style=\"opacity: 0.7; stroke-width: 1px; fill: rgb(0, 204, 150); fill-opacity: 1; stroke: rgb(255, 255, 255); stroke-opacity: 1;\"/><path class=\"point\" transform=\"translate(158.98,206.14)\" d=\"M2.53,0A2.53,2.53 0 1,1 0,-2.53A2.53,2.53 0 0,1 2.53,0Z\" style=\"opacity: 0.7; stroke-width: 1px; fill: rgb(0, 204, 150); fill-opacity: 1; stroke: rgb(255, 255, 255); stroke-opacity: 1;\"/><path class=\"point\" transform=\"translate(117.25,248.12)\" d=\"M1.75,0A1.75,1.75 0 1,1 0,-1.75A1.75,1.75 0 0,1 1.75,0Z\" style=\"opacity: 0.7; stroke-width: 1px; fill: rgb(0, 204, 150); fill-opacity: 1; stroke: rgb(255, 255, 255); stroke-opacity: 1;\"/><path class=\"point\" transform=\"translate(79.01,253)\" d=\"M0.82,0A0.82,0.82 0 1,1 0,-0.82A0.82,0.82 0 0,1 0.82,0Z\" style=\"opacity: 0.7; stroke-width: 1px; fill: rgb(0, 204, 150); fill-opacity: 1; stroke: rgb(255, 255, 255); stroke-opacity: 1;\"/><path class=\"point\" transform=\"translate(154.27,210.01)\" d=\"M2.72,0A2.72,2.72 0 1,1 0,-2.72A2.72,2.72 0 0,1 2.72,0Z\" style=\"opacity: 0.7; stroke-width: 1px; fill: rgb(0, 204, 150); fill-opacity: 1; stroke: rgb(255, 255, 255); stroke-opacity: 1;\"/><path class=\"point\" transform=\"translate(78.77,210.59)\" d=\"M0.93,0A0.93,0.93 0 1,1 0,-0.93A0.93,0.93 0 0,1 0.93,0Z\" style=\"opacity: 0.7; stroke-width: 1px; fill: rgb(0, 204, 150); fill-opacity: 1; stroke: rgb(255, 255, 255); stroke-opacity: 1;\"/><path class=\"point\" transform=\"translate(125.92,226.69)\" d=\"M1,0A1,1 0 1,1 0,-1A1,1 0 0,1 1,0Z\" style=\"opacity: 0.7; stroke-width: 1px; fill: rgb(0, 204, 150); fill-opacity: 1; stroke: rgb(255, 255, 255); stroke-opacity: 1;\"/><path class=\"point\" transform=\"translate(228.28,208.02)\" d=\"M1.08,0A1.08,1.08 0 1,1 0,-1.08A1.08,1.08 0 0,1 1.08,0Z\" style=\"opacity: 0.7; stroke-width: 1px; fill: rgb(0, 204, 150); fill-opacity: 1; stroke: rgb(255, 255, 255); stroke-opacity: 1;\"/><path class=\"point\" transform=\"translate(192.05,234.6)\" d=\"M2.34,0A2.34,2.34 0 1,1 0,-2.34A2.34,2.34 0 0,1 2.34,0Z\" style=\"opacity: 0.7; stroke-width: 1px; fill: rgb(0, 204, 150); fill-opacity: 1; stroke: rgb(255, 255, 255); stroke-opacity: 1;\"/><path class=\"point\" transform=\"translate(93.97,236.47)\" d=\"M1.83,0A1.83,1.83 0 1,1 0,-1.83A1.83,1.83 0 0,1 1.83,0Z\" style=\"opacity: 0.7; stroke-width: 1px; fill: rgb(0, 204, 150); fill-opacity: 1; stroke: rgb(255, 255, 255); stroke-opacity: 1;\"/><path class=\"point\" transform=\"translate(108.59,247.79)\" d=\"M2.1,0A2.1,2.1 0 1,1 0,-2.1A2.1,2.1 0 0,1 2.1,0Z\" style=\"opacity: 0.7; stroke-width: 1px; fill: rgb(0, 204, 150); fill-opacity: 1; stroke: rgb(255, 255, 255); stroke-opacity: 1;\"/><path class=\"point\" transform=\"translate(144.31,217.61)\" d=\"M1.08,0A1.08,1.08 0 1,1 0,-1.08A1.08,1.08 0 0,1 1.08,0Z\" style=\"opacity: 0.7; stroke-width: 1px; fill: rgb(0, 204, 150); fill-opacity: 1; stroke: rgb(255, 255, 255); stroke-opacity: 1;\"/><path class=\"point\" transform=\"translate(214.38,171.66)\" d=\"M0.77,0A0.77,0.77 0 1,1 0,-0.77A0.77,0.77 0 0,1 0.77,0Z\" style=\"opacity: 0.7; stroke-width: 1px; fill: rgb(0, 204, 150); fill-opacity: 1; stroke: rgb(255, 255, 255); stroke-opacity: 1;\"/><path class=\"point\" transform=\"translate(203.34,207.36)\" d=\"M3.38,0A3.38,3.38 0 1,1 0,-3.38A3.38,3.38 0 0,1 3.38,0Z\" style=\"opacity: 0.7; stroke-width: 1px; fill: rgb(0, 204, 150); fill-opacity: 1; stroke: rgb(255, 255, 255); stroke-opacity: 1;\"/><path class=\"point\" transform=\"translate(111.12,258.34)\" d=\"M2.72,0A2.72,2.72 0 1,1 0,-2.72A2.72,2.72 0 0,1 2.72,0Z\" style=\"opacity: 0.7; stroke-width: 1px; fill: rgb(0, 204, 150); fill-opacity: 1; stroke: rgb(255, 255, 255); stroke-opacity: 1;\"/><path class=\"point\" transform=\"translate(229.36,212.41)\" d=\"M0.75,0A0.75,0.75 0 1,1 0,-0.75A0.75,0.75 0 0,1 0.75,0Z\" style=\"opacity: 0.7; stroke-width: 1px; fill: rgb(0, 204, 150); fill-opacity: 1; stroke: rgb(255, 255, 255); stroke-opacity: 1;\"/><path class=\"point\" transform=\"translate(146.1,231.25)\" d=\"M1.97,0A1.97,1.97 0 1,1 0,-1.97A1.97,1.97 0 0,1 1.97,0Z\" style=\"opacity: 0.7; stroke-width: 1px; fill: rgb(0, 204, 150); fill-opacity: 1; stroke: rgb(255, 255, 255); stroke-opacity: 1;\"/><path class=\"point\" transform=\"translate(171.02,236.17)\" d=\"M6.16,0A6.16,6.16 0 1,1 0,-6.16A6.16,6.16 0 0,1 6.16,0Z\" style=\"opacity: 0.7; stroke-width: 1px; fill: rgb(0, 204, 150); fill-opacity: 1; stroke: rgb(255, 255, 255); stroke-opacity: 1;\"/><path class=\"point\" transform=\"translate(237.63,164.01)\" d=\"M0.54,0A0.54,0.54 0 1,1 0,-0.54A0.54,0.54 0 0,1 0.54,0Z\" style=\"opacity: 0.7; stroke-width: 1px; fill: rgb(0, 204, 150); fill-opacity: 1; stroke: rgb(255, 255, 255); stroke-opacity: 1;\"/><path class=\"point\" transform=\"translate(114.83,220)\" d=\"M1.71,0A1.71,1.71 0 1,1 0,-1.71A1.71,1.71 0 0,1 1.71,0Z\" style=\"opacity: 0.7; stroke-width: 1px; fill: rgb(0, 204, 150); fill-opacity: 1; stroke: rgb(255, 255, 255); stroke-opacity: 1;\"/><path class=\"point\" transform=\"translate(156.44,191.53)\" d=\"M0.26,0A0.26,0.26 0 1,1 0,-0.26A0.26,0.26 0 0,1 0.26,0Z\" style=\"opacity: 0.7; stroke-width: 1px; fill: rgb(0, 204, 150); fill-opacity: 1; stroke: rgb(255, 255, 255); stroke-opacity: 1;\"/><path class=\"point\" transform=\"translate(192.42,231.98)\" d=\"M1.78,0A1.78,1.78 0 1,1 0,-1.78A1.78,1.78 0 0,1 1.78,0Z\" style=\"opacity: 0.7; stroke-width: 1px; fill: rgb(0, 204, 150); fill-opacity: 1; stroke: rgb(255, 255, 255); stroke-opacity: 1;\"/><path class=\"point\" transform=\"translate(156.45,262.54)\" d=\"M1.57,0A1.57,1.57 0 1,1 0,-1.57A1.57,1.57 0 0,1 1.57,0Z\" style=\"opacity: 0.7; stroke-width: 1px; fill: rgb(0, 204, 150); fill-opacity: 1; stroke: rgb(255, 255, 255); stroke-opacity: 1;\"/><path class=\"point\" transform=\"translate(174.83,250.9)\" d=\"M1.7,0A1.7,1.7 0 1,1 0,-1.7A1.7,1.7 0 0,1 1.7,0Z\" style=\"opacity: 0.7; stroke-width: 1px; fill: rgb(0, 204, 150); fill-opacity: 1; stroke: rgb(255, 255, 255); stroke-opacity: 1;\"/><path class=\"point\" transform=\"translate(277.4,197.96)\" d=\"M4.04,0A4.04,4.04 0 1,1 0,-4.04A4.04,4.04 0 0,1 4.04,0Z\" style=\"opacity: 0.7; stroke-width: 1px; fill: rgb(0, 204, 150); fill-opacity: 1; stroke: rgb(255, 255, 255); stroke-opacity: 1;\"/><path class=\"point\" transform=\"translate(200.2,226.01)\" d=\"M3.12,0A3.12,3.12 0 1,1 0,-3.12A3.12,3.12 0 0,1 3.12,0Z\" style=\"opacity: 0.7; stroke-width: 1px; fill: rgb(0, 204, 150); fill-opacity: 1; stroke: rgb(255, 255, 255); stroke-opacity: 1;\"/><path class=\"point\" transform=\"translate(175.62,213.81)\" d=\"M0.58,0A0.58,0.58 0 1,1 0,-0.58A0.58,0.58 0 0,1 0.58,0Z\" style=\"opacity: 0.7; stroke-width: 1px; fill: rgb(0, 204, 150); fill-opacity: 1; stroke: rgb(255, 255, 255); stroke-opacity: 1;\"/><path class=\"point\" transform=\"translate(141.7,214.65)\" d=\"M3.09,0A3.09,3.09 0 1,1 0,-3.09A3.09,3.09 0 0,1 3.09,0Z\" style=\"opacity: 0.7; stroke-width: 1px; fill: rgb(0, 204, 150); fill-opacity: 1; stroke: rgb(255, 255, 255); stroke-opacity: 1;\"/><path class=\"point\" transform=\"translate(154.8,226.18)\" d=\"M1.18,0A1.18,1.18 0 1,1 0,-1.18A1.18,1.18 0 0,1 1.18,0Z\" style=\"opacity: 0.7; stroke-width: 1px; fill: rgb(0, 204, 150); fill-opacity: 1; stroke: rgb(255, 255, 255); stroke-opacity: 1;\"/><path class=\"point\" transform=\"translate(193.31,199.76)\" d=\"M2.05,0A2.05,2.05 0 1,1 0,-2.05A2.05,2.05 0 0,1 2.05,0Z\" style=\"opacity: 0.7; stroke-width: 1px; fill: rgb(0, 204, 150); fill-opacity: 1; stroke: rgb(255, 255, 255); stroke-opacity: 1;\"/><path class=\"point\" transform=\"translate(143.49,220.1)\" d=\"M2.58,0A2.58,2.58 0 1,1 0,-2.58A2.58,2.58 0 0,1 2.58,0Z\" style=\"opacity: 0.7; stroke-width: 1px; fill: rgb(0, 204, 150); fill-opacity: 1; stroke: rgb(255, 255, 255); stroke-opacity: 1;\"/><path class=\"point\" transform=\"translate(175.56,211.03)\" d=\"M1.75,0A1.75,1.75 0 1,1 0,-1.75A1.75,1.75 0 0,1 1.75,0Z\" style=\"opacity: 0.7; stroke-width: 1px; fill: rgb(0, 204, 150); fill-opacity: 1; stroke: rgb(255, 255, 255); stroke-opacity: 1;\"/><path class=\"point\" transform=\"translate(100.97,182.82)\" d=\"M1.88,0A1.88,1.88 0 1,1 0,-1.88A1.88,1.88 0 0,1 1.88,0Z\" style=\"opacity: 0.7; stroke-width: 1px; fill: rgb(0, 204, 150); fill-opacity: 1; stroke: rgb(255, 255, 255); stroke-opacity: 1;\"/></g><g class=\"text\"/></g><g class=\"trace scatter tracea2202b\" style=\"stroke-miterlimit: 2; opacity: 1;\"><g class=\"fills\"/><g class=\"errorbars\"/><g class=\"lines\"/><g class=\"points\"><path class=\"point\" transform=\"translate(293.51,121.07)\" d=\"M4.53,0A4.53,4.53 0 1,1 0,-4.53A4.53,4.53 0 0,1 4.53,0Z\" style=\"opacity: 0.7; stroke-width: 1px; fill: rgb(171, 99, 250); fill-opacity: 1; stroke: rgb(255, 255, 255); stroke-opacity: 1;\"/><path class=\"point\" transform=\"translate(236.52,218.18)\" d=\"M1.82,0A1.82,1.82 0 1,1 0,-1.82A1.82,1.82 0 0,1 1.82,0Z\" style=\"opacity: 0.7; stroke-width: 1px; fill: rgb(171, 99, 250); fill-opacity: 1; stroke: rgb(255, 255, 255); stroke-opacity: 1;\"/><path class=\"point\" transform=\"translate(219.35,171.97)\" d=\"M8.06,0A8.06,8.06 0 1,1 0,-8.06A8.06,8.06 0 0,1 8.06,0Z\" style=\"opacity: 0.7; stroke-width: 1px; fill: rgb(171, 99, 250); fill-opacity: 1; stroke: rgb(255, 255, 255); stroke-opacity: 1;\"/><path class=\"point\" transform=\"translate(340.55,93.5)\" d=\"M4.12,0A4.12,4.12 0 1,1 0,-4.12A4.12,4.12 0 0,1 4.12,0Z\" style=\"opacity: 0.7; stroke-width: 1px; fill: rgb(171, 99, 250); fill-opacity: 1; stroke: rgb(255, 255, 255); stroke-opacity: 1;\"/><path class=\"point\" transform=\"translate(264.32,155.12)\" d=\"M2.7,0A2.7,2.7 0 1,1 0,-2.7A2.7,2.7 0 0,1 2.7,0Z\" style=\"opacity: 0.7; stroke-width: 1px; fill: rgb(171, 99, 250); fill-opacity: 1; stroke: rgb(255, 255, 255); stroke-opacity: 1;\"/><path class=\"point\" transform=\"translate(220.54,173.17)\" d=\"M3.76,0A3.76,3.76 0 1,1 0,-3.76A3.76,3.76 0 0,1 3.76,0Z\" style=\"opacity: 0.7; stroke-width: 1px; fill: rgb(171, 99, 250); fill-opacity: 1; stroke: rgb(255, 255, 255); stroke-opacity: 1;\"/><path class=\"point\" transform=\"translate(235.16,144.29)\" d=\"M1.03,0A1.03,1.03 0 1,1 0,-1.03A1.03,1.03 0 0,1 1.03,0Z\" style=\"opacity: 0.7; stroke-width: 1px; fill: rgb(171, 99, 250); fill-opacity: 1; stroke: rgb(255, 255, 255); stroke-opacity: 1;\"/><path class=\"point\" transform=\"translate(289.44,134.55)\" d=\"M2.63,0A2.63,2.63 0 1,1 0,-2.63A2.63,2.63 0 0,1 2.63,0Z\" style=\"opacity: 0.7; stroke-width: 1px; fill: rgb(171, 99, 250); fill-opacity: 1; stroke: rgb(255, 255, 255); stroke-opacity: 1;\"/><path class=\"point\" transform=\"translate(189.76,193.92)\" d=\"M1.69,0A1.69,1.69 0 1,1 0,-1.69A1.69,1.69 0 0,1 1.69,0Z\" style=\"opacity: 0.7; stroke-width: 1px; fill: rgb(171, 99, 250); fill-opacity: 1; stroke: rgb(255, 255, 255); stroke-opacity: 1;\"/><path class=\"point\" transform=\"translate(256.25,183.23)\" d=\"M2.02,0A2.02,2.02 0 1,1 0,-2.02A2.02,2.02 0 0,1 2.02,0Z\" style=\"opacity: 0.7; stroke-width: 1px; fill: rgb(171, 99, 250); fill-opacity: 1; stroke: rgb(255, 255, 255); stroke-opacity: 1;\"/><path class=\"point\" transform=\"translate(245.86,196.85)\" d=\"M1.53,0A1.53,1.53 0 1,1 0,-1.53A1.53,1.53 0 0,1 1.53,0Z\" style=\"opacity: 0.7; stroke-width: 1px; fill: rgb(171, 99, 250); fill-opacity: 1; stroke: rgb(255, 255, 255); stroke-opacity: 1;\"/><path class=\"point\" transform=\"translate(229.5,211.1)\" d=\"M1.9,0A1.9,1.9 0 1,1 0,-1.9A1.9,1.9 0 0,1 1.9,0Z\" style=\"opacity: 0.7; stroke-width: 1px; fill: rgb(171, 99, 250); fill-opacity: 1; stroke: rgb(255, 255, 255); stroke-opacity: 1;\"/><path class=\"point\" transform=\"translate(209.55,230.65)\" d=\"M1.92,0A1.92,1.92 0 1,1 0,-1.92A1.92,1.92 0 0,1 1.92,0Z\" style=\"opacity: 0.7; stroke-width: 1px; fill: rgb(171, 99, 250); fill-opacity: 1; stroke: rgb(255, 255, 255); stroke-opacity: 1;\"/><path class=\"point\" transform=\"translate(222.23,211.59)\" d=\"M1.32,0A1.32,1.32 0 1,1 0,-1.32A1.32,1.32 0 0,1 1.32,0Z\" style=\"opacity: 0.7; stroke-width: 1px; fill: rgb(171, 99, 250); fill-opacity: 1; stroke: rgb(255, 255, 255); stroke-opacity: 1;\"/><path class=\"point\" transform=\"translate(242.23,138.47)\" d=\"M1.28,0A1.28,1.28 0 1,1 0,-1.28A1.28,1.28 0 0,1 1.28,0Z\" style=\"opacity: 0.7; stroke-width: 1px; fill: rgb(171, 99, 250); fill-opacity: 1; stroke: rgb(255, 255, 255); stroke-opacity: 1;\"/><path class=\"point\" transform=\"translate(255.35,172.53)\" d=\"M5.88,0A5.88,5.88 0 1,1 0,-5.88A5.88,5.88 0 0,1 5.88,0Z\" style=\"opacity: 0.7; stroke-width: 1px; fill: rgb(171, 99, 250); fill-opacity: 1; stroke: rgb(255, 255, 255); stroke-opacity: 1;\"/><path class=\"point\" transform=\"translate(247.36,209.82)\" d=\"M1.16,0A1.16,1.16 0 1,1 0,-1.16A1.16,1.16 0 0,1 1.16,0Z\" style=\"opacity: 0.7; stroke-width: 1px; fill: rgb(171, 99, 250); fill-opacity: 1; stroke: rgb(255, 255, 255); stroke-opacity: 1;\"/><path class=\"point\" transform=\"translate(231.03,153.16)\" d=\"M1.04,0A1.04,1.04 0 1,1 0,-1.04A1.04,1.04 0 0,1 1.04,0Z\" style=\"opacity: 0.7; stroke-width: 1px; fill: rgb(171, 99, 250); fill-opacity: 1; stroke: rgb(255, 255, 255); stroke-opacity: 1;\"/><path class=\"point\" transform=\"translate(213.8,120.34)\" d=\"M1.34,0A1.34,1.34 0 1,1 0,-1.34A1.34,1.34 0 0,1 1.34,0Z\" style=\"opacity: 0.7; stroke-width: 1px; fill: rgb(171, 99, 250); fill-opacity: 1; stroke: rgb(255, 255, 255); stroke-opacity: 1;\"/><path class=\"point\" transform=\"translate(260.93,202.83)\" d=\"M3.03,0A3.03,3.03 0 1,1 0,-3.03A3.03,3.03 0 0,1 3.03,0Z\" style=\"opacity: 0.7; stroke-width: 1px; fill: rgb(171, 99, 250); fill-opacity: 1; stroke: rgb(255, 255, 255); stroke-opacity: 1;\"/><path class=\"point\" transform=\"translate(246.65,113.17)\" d=\"M1.6,0A1.6,1.6 0 1,1 0,-1.6A1.6,1.6 0 0,1 1.6,0Z\" style=\"opacity: 0.7; stroke-width: 1px; fill: rgb(171, 99, 250); fill-opacity: 1; stroke: rgb(255, 255, 255); stroke-opacity: 1;\"/><path class=\"point\" transform=\"translate(245.27,135.96)\" d=\"M0.87,0A0.87,0.87 0 1,1 0,-0.87A0.87,0.87 0 0,1 0.87,0Z\" style=\"opacity: 0.7; stroke-width: 1px; fill: rgb(171, 99, 250); fill-opacity: 1; stroke: rgb(255, 255, 255); stroke-opacity: 1;\"/><path class=\"point\" transform=\"translate(355.49,94.86)\" d=\"M13.44,0A13.44,13.44 0 1,1 0,-13.44A13.44,13.44 0 0,1 13.44,0Z\" style=\"opacity: 0.7; stroke-width: 1px; fill: rgb(171, 99, 250); fill-opacity: 1; stroke: rgb(255, 255, 255); stroke-opacity: 1;\"/><path class=\"point\" transform=\"translate(291.1,105.29)\" d=\"M1.61,0A1.61,1.61 0 1,1 0,-1.61A1.61,1.61 0 0,1 1.61,0Z\" style=\"opacity: 0.7; stroke-width: 1px; fill: rgb(171, 99, 250); fill-opacity: 1; stroke: rgb(255, 255, 255); stroke-opacity: 1;\"/><path class=\"point\" transform=\"translate(312.43,153.61)\" d=\"M2.5,0A2.5,2.5 0 1,1 0,-2.5A2.5,2.5 0 0,1 2.5,0Z\" style=\"opacity: 0.7; stroke-width: 1px; fill: rgb(171, 99, 250); fill-opacity: 1; stroke: rgb(255, 255, 255); stroke-opacity: 1;\"/></g><g class=\"text\"/></g><g class=\"trace scatter tracedd0cf8\" style=\"stroke-miterlimit: 2; opacity: 1;\"><g class=\"fills\"/><g class=\"errorbars\"/><g class=\"lines\"/><g class=\"points\"><path class=\"point\" transform=\"translate(331.62,91.87)\" d=\"M3.16,0A3.16,3.16 0 1,1 0,-3.16A3.16,3.16 0 0,1 3.16,0Z\" style=\"opacity: 0.7; stroke-width: 1px; fill: rgb(255, 161, 90); fill-opacity: 1; stroke: rgb(255, 255, 255); stroke-opacity: 1;\"/><path class=\"point\" transform=\"translate(335.23,90.68)\" d=\"M1.51,0A1.51,1.51 0 1,1 0,-1.51A1.51,1.51 0 0,1 1.51,0Z\" style=\"opacity: 0.7; stroke-width: 1px; fill: rgb(255, 161, 90); fill-opacity: 1; stroke: rgb(255, 255, 255); stroke-opacity: 1;\"/></g><g class=\"text\"/></g></g></g><g class=\"overplot\"/><path class=\"xlines-above crisp\" d=\"M0,0\" style=\"fill: none;\"/><path class=\"ylines-above crisp\" d=\"M0,0\" style=\"fill: none;\"/><g class=\"overlines-above\"/><g class=\"xaxislayer-above\"><g class=\"xtick\"><text text-anchor=\"middle\" x=\"0\" y=\"359\" transform=\"translate(80,0)\" style=\"font-family: 'Open Sans', verdana, arial, sans-serif; font-size: 12px; fill: rgb(42, 63, 95); fill-opacity: 1; white-space: pre; opacity: 1;\">100</text></g><g class=\"xtick\"><text text-anchor=\"middle\" x=\"0\" y=\"356\" style=\"font-family: 'Open Sans', verdana, arial, sans-serif; font-size: 9px; fill: rgb(42, 63, 95); fill-opacity: 1; white-space: pre; opacity: 1;\" transform=\"translate(129.87,0)\">2</text></g><g class=\"xtick\"><text text-anchor=\"middle\" x=\"0\" y=\"356\" style=\"font-family: 'Open Sans', verdana, arial, sans-serif; font-size: 9px; fill: rgb(42, 63, 95); fill-opacity: 1; white-space: pre; opacity: 1;\" transform=\"translate(195.8,0)\">5</text></g><g class=\"xtick\"><text text-anchor=\"middle\" x=\"0\" y=\"359\" style=\"font-family: 'Open Sans', verdana, arial, sans-serif; font-size: 12px; fill: rgb(42, 63, 95); fill-opacity: 1; white-space: pre; opacity: 1;\" transform=\"translate(245.67,0)\">1000</text></g><g class=\"xtick\"><text text-anchor=\"middle\" x=\"0\" y=\"356\" style=\"font-family: 'Open Sans', verdana, arial, sans-serif; font-size: 9px; fill: rgb(42, 63, 95); fill-opacity: 1; white-space: pre; opacity: 1;\" transform=\"translate(295.53999999999996,0)\">2</text></g><g class=\"xtick\"><text text-anchor=\"middle\" x=\"0\" y=\"356\" style=\"font-family: 'Open Sans', verdana, arial, sans-serif; font-size: 9px; fill: rgb(42, 63, 95); fill-opacity: 1; white-space: pre; opacity: 1;\" transform=\"translate(361.46,0)\">5</text></g><g class=\"xtick\"><text text-anchor=\"middle\" x=\"0\" y=\"359\" style=\"font-family: 'Open Sans', verdana, arial, sans-serif; font-size: 12px; fill: rgb(42, 63, 95); fill-opacity: 1; white-space: pre; opacity: 1;\" transform=\"translate(411.33,0)\">10k</text></g><g class=\"xtick\"><text text-anchor=\"middle\" x=\"0\" y=\"356\" style=\"font-family: 'Open Sans', verdana, arial, sans-serif; font-size: 9px; fill: rgb(42, 63, 95); fill-opacity: 1; white-space: pre; opacity: 1;\" transform=\"translate(461.2,0)\">2</text></g><g class=\"xtick\"><text text-anchor=\"middle\" x=\"0\" y=\"356\" style=\"font-family: 'Open Sans', verdana, arial, sans-serif; font-size: 9px; fill: rgb(42, 63, 95); fill-opacity: 1; white-space: pre; opacity: 1;\" transform=\"translate(527.13,0)\">5</text></g><g class=\"xtick\"><text text-anchor=\"middle\" x=\"0\" y=\"359\" style=\"font-family: 'Open Sans', verdana, arial, sans-serif; font-size: 12px; fill: rgb(42, 63, 95); fill-opacity: 1; white-space: pre; opacity: 1;\" transform=\"translate(577,0)\">100k</text></g></g><g class=\"yaxislayer-above\"><g class=\"ytick\"><text text-anchor=\"end\" x=\"79\" y=\"4.199999999999999\" transform=\"translate(0,324)\" style=\"font-family: 'Open Sans', verdana, arial, sans-serif; font-size: 12px; fill: rgb(42, 63, 95); fill-opacity: 1; white-space: pre; opacity: 1;\">30</text></g><g class=\"ytick\"><text text-anchor=\"end\" x=\"79\" y=\"4.199999999999999\" style=\"font-family: 'Open Sans', verdana, arial, sans-serif; font-size: 12px; fill: rgb(42, 63, 95); fill-opacity: 1; white-space: pre; opacity: 1;\" transform=\"translate(0,280)\">40</text></g><g class=\"ytick\"><text text-anchor=\"end\" x=\"79\" y=\"4.199999999999999\" style=\"font-family: 'Open Sans', verdana, arial, sans-serif; font-size: 12px; fill: rgb(42, 63, 95); fill-opacity: 1; white-space: pre; opacity: 1;\" transform=\"translate(0,236)\">50</text></g><g class=\"ytick\"><text text-anchor=\"end\" x=\"79\" y=\"4.199999999999999\" style=\"font-family: 'Open Sans', verdana, arial, sans-serif; font-size: 12px; fill: rgb(42, 63, 95); fill-opacity: 1; white-space: pre; opacity: 1;\" transform=\"translate(0,192)\">60</text></g><g class=\"ytick\"><text text-anchor=\"end\" x=\"79\" y=\"4.199999999999999\" style=\"font-family: 'Open Sans', verdana, arial, sans-serif; font-size: 12px; fill: rgb(42, 63, 95); fill-opacity: 1; white-space: pre; opacity: 1;\" transform=\"translate(0,148)\">70</text></g><g class=\"ytick\"><text text-anchor=\"end\" x=\"79\" y=\"4.199999999999999\" style=\"font-family: 'Open Sans', verdana, arial, sans-serif; font-size: 12px; fill: rgb(42, 63, 95); fill-opacity: 1; white-space: pre; opacity: 1;\" transform=\"translate(0,104)\">80</text></g><g class=\"ytick\"><text text-anchor=\"end\" x=\"79\" y=\"4.199999999999999\" style=\"font-family: 'Open Sans', verdana, arial, sans-serif; font-size: 12px; fill: rgb(42, 63, 95); fill-opacity: 1; white-space: pre; opacity: 1;\" transform=\"translate(0,60)\">90</text></g></g><g class=\"overaxes-above\"/></g></g><g class=\"polarlayer\"/><g class=\"smithlayer\"/><g class=\"ternarylayer\"/><g class=\"geolayer\"/><g class=\"funnelarealayer\"/><g class=\"pielayer\"/><g class=\"iciclelayer\"/><g class=\"treemaplayer\"/><g class=\"sunburstlayer\"/><g class=\"glimages\"/><defs id=\"topdefs-cfb8fa\"><g class=\"clips\"/><clipPath id=\"legendcfb8fa\"><rect width=\"101\" height=\"124\" x=\"0\" y=\"0\"/></clipPath></defs><g class=\"layer-above\"><g class=\"imagelayer\"/><g class=\"shapelayer\"/></g><g class=\"infolayer\"><g class=\"legend\" pointer-events=\"all\" transform=\"translate(586.94,60)\"><rect class=\"bg\" shape-rendering=\"crispEdges\" style=\"stroke: rgb(68, 68, 68); stroke-opacity: 1; fill: rgb(255, 255, 255); fill-opacity: 1; stroke-width: 0px;\" width=\"101\" height=\"124\" x=\"0\" y=\"0\"/><g class=\"scrollbox\" transform=\"\" clip-path=\"url(#legendcfb8fa)\"><text class=\"legendtitletext\" text-anchor=\"start\" x=\"2\" y=\"18.2\" style=\"font-family: 'Open Sans', verdana, arial, sans-serif; font-size: 14px; fill: rgb(42, 63, 95); fill-opacity: 1; white-space: pre;\">continent</text><g class=\"groups\" transform=\"\"><g class=\"traces\" transform=\"translate(0,32.7)\" style=\"opacity: 1;\"><text class=\"legendtext\" text-anchor=\"start\" x=\"40\" y=\"4.680000000000001\" style=\"font-family: 'Open Sans', verdana, arial, sans-serif; font-size: 12px; fill: rgb(42, 63, 95); fill-opacity: 1; white-space: pre;\">Asia</text><g class=\"layers\" style=\"opacity: 1;\"><g class=\"legendfill\"/><g class=\"legendlines\"/><g class=\"legendsymbols\"><g class=\"legendpoints\"><path class=\"scatterpts\" transform=\"translate(20,0)\" d=\"M6,0A6,6 0 1,1 0,-6A6,6 0 0,1 6,0Z\" style=\"opacity: 0.7; stroke-width: 2px; fill: rgb(99, 110, 250); fill-opacity: 1; stroke: rgb(255, 255, 255); stroke-opacity: 1;\"/></g></g></g><rect class=\"legendtoggle\" x=\"0\" y=\"-9.5\" width=\"95.15625\" height=\"19\" style=\"fill: rgb(0, 0, 0); fill-opacity: 0;\"/></g></g><g class=\"groups\" transform=\"\"><g class=\"traces\" transform=\"translate(0,51.7)\" style=\"opacity: 1;\"><text class=\"legendtext\" text-anchor=\"start\" x=\"40\" y=\"4.680000000000001\" style=\"font-family: 'Open Sans', verdana, arial, sans-serif; font-size: 12px; fill: rgb(42, 63, 95); fill-opacity: 1; white-space: pre;\">Europe</text><g class=\"layers\" style=\"opacity: 1;\"><g class=\"legendfill\"/><g class=\"legendlines\"/><g class=\"legendsymbols\"><g class=\"legendpoints\"><path class=\"scatterpts\" transform=\"translate(20,0)\" d=\"M6,0A6,6 0 1,1 0,-6A6,6 0 0,1 6,0Z\" style=\"opacity: 0.7; stroke-width: 2px; fill: rgb(239, 85, 59); fill-opacity: 1; stroke: rgb(255, 255, 255); stroke-opacity: 1;\"/></g></g></g><rect class=\"legendtoggle\" x=\"0\" y=\"-9.5\" width=\"95.15625\" height=\"19\" style=\"fill: rgb(0, 0, 0); fill-opacity: 0;\"/></g></g><g class=\"groups\" transform=\"\"><g class=\"traces\" transform=\"translate(0,70.7)\" style=\"opacity: 1;\"><text class=\"legendtext\" text-anchor=\"start\" x=\"40\" y=\"4.680000000000001\" style=\"font-family: 'Open Sans', verdana, arial, sans-serif; font-size: 12px; fill: rgb(42, 63, 95); fill-opacity: 1; white-space: pre;\">Africa</text><g class=\"layers\" style=\"opacity: 1;\"><g class=\"legendfill\"/><g class=\"legendlines\"/><g class=\"legendsymbols\"><g class=\"legendpoints\"><path class=\"scatterpts\" transform=\"translate(20,0)\" d=\"M6,0A6,6 0 1,1 0,-6A6,6 0 0,1 6,0Z\" style=\"opacity: 0.7; stroke-width: 2px; fill: rgb(0, 204, 150); fill-opacity: 1; stroke: rgb(255, 255, 255); stroke-opacity: 1;\"/></g></g></g><rect class=\"legendtoggle\" x=\"0\" y=\"-9.5\" width=\"95.15625\" height=\"19\" style=\"fill: rgb(0, 0, 0); fill-opacity: 0;\"/></g></g><g class=\"groups\" transform=\"\"><g class=\"traces\" transform=\"translate(0,89.7)\" style=\"opacity: 1;\"><text class=\"legendtext\" text-anchor=\"start\" x=\"40\" y=\"4.680000000000001\" style=\"font-family: 'Open Sans', verdana, arial, sans-serif; font-size: 12px; fill: rgb(42, 63, 95); fill-opacity: 1; white-space: pre;\">Americas</text><g class=\"layers\" style=\"opacity: 1;\"><g class=\"legendfill\"/><g class=\"legendlines\"/><g class=\"legendsymbols\"><g class=\"legendpoints\"><path class=\"scatterpts\" transform=\"translate(20,0)\" d=\"M6,0A6,6 0 1,1 0,-6A6,6 0 0,1 6,0Z\" style=\"opacity: 0.7; stroke-width: 2px; fill: rgb(171, 99, 250); fill-opacity: 1; stroke: rgb(255, 255, 255); stroke-opacity: 1;\"/></g></g></g><rect class=\"legendtoggle\" x=\"0\" y=\"-9.5\" width=\"95.15625\" height=\"19\" style=\"fill: rgb(0, 0, 0); fill-opacity: 0;\"/></g></g><g class=\"groups\" transform=\"\"><g class=\"traces\" transform=\"translate(0,108.7)\" style=\"opacity: 1;\"><text class=\"legendtext\" text-anchor=\"start\" x=\"40\" y=\"4.680000000000001\" style=\"font-family: 'Open Sans', verdana, arial, sans-serif; font-size: 12px; fill: rgb(42, 63, 95); fill-opacity: 1; white-space: pre;\">Oceania</text><g class=\"layers\" style=\"opacity: 1;\"><g class=\"legendfill\"/><g class=\"legendlines\"/><g class=\"legendsymbols\"><g class=\"legendpoints\"><path class=\"scatterpts\" transform=\"translate(20,0)\" d=\"M6,0A6,6 0 1,1 0,-6A6,6 0 0,1 6,0Z\" style=\"opacity: 0.7; stroke-width: 2px; fill: rgb(255, 161, 90); fill-opacity: 1; stroke: rgb(255, 255, 255); stroke-opacity: 1;\"/></g></g></g><rect class=\"legendtoggle\" x=\"0\" y=\"-9.5\" width=\"95.15625\" height=\"19\" style=\"fill: rgb(0, 0, 0); fill-opacity: 0;\"/></g></g></g><rect class=\"scrollbar\" rx=\"20\" ry=\"3\" width=\"0\" height=\"0\" style=\"fill: rgb(128, 139, 164); fill-opacity: 1;\" x=\"0\" y=\"0\"/></g><g class=\"slider-container\"><g class=\"slider-group\" transform=\"translate(130,406)\"><text class=\"slider-label\" text-anchor=\"left\" data-notex=\"1\" x=\"0\" y=\"15.600000000000001\" style=\"font-family: 'Open Sans', verdana, arial, sans-serif; font-size: 12px; fill: rgb(42, 63, 95); fill-opacity: 1; white-space: pre;\">year=1952</text><rect class=\"slider-rail-rect\" width=\"431\" height=\"5\" rx=\"2\" ry=\"2\" shape-rendering=\"crispEdges\" transform=\"translate(8,32.5)\" style=\"stroke: rgb(190, 200, 217); stroke-opacity: 1; fill: rgb(248, 250, 252); fill-opacity: 1; stroke-width: 1px;\"/><g class=\"slider-labels\"><g class=\"slider-label-group\" transform=\"translate(10,72.6)\"><text class=\"slider-label\" text-anchor=\"middle\" data-notex=\"1\" x=\"0\" y=\"0\" style=\"font-family: 'Open Sans', verdana, arial, sans-serif; font-size: 12px; fill: rgb(42, 63, 95); fill-opacity: 1; white-space: pre;\">1952</text></g><g class=\"slider-label-group\" transform=\"translate(48.81818181818182,72.6)\"><text class=\"slider-label\" text-anchor=\"middle\" data-notex=\"1\" x=\"0\" y=\"0\" style=\"font-family: 'Open Sans', verdana, arial, sans-serif; font-size: 12px; fill: rgb(42, 63, 95); fill-opacity: 1; white-space: pre;\">1957</text></g><g class=\"slider-label-group\" transform=\"translate(87.63636363636364,72.6)\"><text class=\"slider-label\" text-anchor=\"middle\" data-notex=\"1\" x=\"0\" y=\"0\" style=\"font-family: 'Open Sans', verdana, arial, sans-serif; font-size: 12px; fill: rgb(42, 63, 95); fill-opacity: 1; white-space: pre;\">1962</text></g><g class=\"slider-label-group\" transform=\"translate(126.45454545454544,72.6)\"><text class=\"slider-label\" text-anchor=\"middle\" data-notex=\"1\" x=\"0\" y=\"0\" style=\"font-family: 'Open Sans', verdana, arial, sans-serif; font-size: 12px; fill: rgb(42, 63, 95); fill-opacity: 1; white-space: pre;\">1967</text></g><g class=\"slider-label-group\" transform=\"translate(165.27272727272728,72.6)\"><text class=\"slider-label\" text-anchor=\"middle\" data-notex=\"1\" x=\"0\" y=\"0\" style=\"font-family: 'Open Sans', verdana, arial, sans-serif; font-size: 12px; fill: rgb(42, 63, 95); fill-opacity: 1; white-space: pre;\">1972</text></g><g class=\"slider-label-group\" transform=\"translate(204.0909090909091,72.6)\"><text class=\"slider-label\" text-anchor=\"middle\" data-notex=\"1\" x=\"0\" y=\"0\" style=\"font-family: 'Open Sans', verdana, arial, sans-serif; font-size: 12px; fill: rgb(42, 63, 95); fill-opacity: 1; white-space: pre;\">1977</text></g><g class=\"slider-label-group\" transform=\"translate(242.90909090909088,72.6)\"><text class=\"slider-label\" text-anchor=\"middle\" data-notex=\"1\" x=\"0\" y=\"0\" style=\"font-family: 'Open Sans', verdana, arial, sans-serif; font-size: 12px; fill: rgb(42, 63, 95); fill-opacity: 1; white-space: pre;\">1982</text></g><g class=\"slider-label-group\" transform=\"translate(281.72727272727275,72.6)\"><text class=\"slider-label\" text-anchor=\"middle\" data-notex=\"1\" x=\"0\" y=\"0\" style=\"font-family: 'Open Sans', verdana, arial, sans-serif; font-size: 12px; fill: rgb(42, 63, 95); fill-opacity: 1; white-space: pre;\">1987</text></g><g class=\"slider-label-group\" transform=\"translate(320.54545454545456,72.6)\"><text class=\"slider-label\" text-anchor=\"middle\" data-notex=\"1\" x=\"0\" y=\"0\" style=\"font-family: 'Open Sans', verdana, arial, sans-serif; font-size: 12px; fill: rgb(42, 63, 95); fill-opacity: 1; white-space: pre;\">1992</text></g><g class=\"slider-label-group\" transform=\"translate(359.3636363636364,72.6)\"><text class=\"slider-label\" text-anchor=\"middle\" data-notex=\"1\" x=\"0\" y=\"0\" style=\"font-family: 'Open Sans', verdana, arial, sans-serif; font-size: 12px; fill: rgb(42, 63, 95); fill-opacity: 1; white-space: pre;\">1997</text></g><g class=\"slider-label-group\" transform=\"translate(398.1818181818182,72.6)\"><text class=\"slider-label\" text-anchor=\"middle\" data-notex=\"1\" x=\"0\" y=\"0\" style=\"font-family: 'Open Sans', verdana, arial, sans-serif; font-size: 12px; fill: rgb(42, 63, 95); fill-opacity: 1; white-space: pre;\">2002</text></g><g class=\"slider-label-group\" transform=\"translate(437,72.6)\"><text class=\"slider-label\" text-anchor=\"middle\" data-notex=\"1\" x=\"0\" y=\"0\" style=\"font-family: 'Open Sans', verdana, arial, sans-serif; font-size: 12px; fill: rgb(42, 63, 95); fill-opacity: 1; white-space: pre;\">2007</text></g></g><rect class=\"slider-tick-rect\" width=\"1px\" shape-rendering=\"crispEdges\" height=\"7\" transform=\"translate(9.5,50)\" style=\"fill: rgb(51, 51, 51); fill-opacity: 1;\"/><rect class=\"slider-tick-rect\" width=\"1px\" shape-rendering=\"crispEdges\" height=\"7\" transform=\"translate(48.31818181818182,50)\" style=\"fill: rgb(51, 51, 51); fill-opacity: 1;\"/><rect class=\"slider-tick-rect\" width=\"1px\" shape-rendering=\"crispEdges\" height=\"7\" transform=\"translate(87.13636363636364,50)\" style=\"fill: rgb(51, 51, 51); fill-opacity: 1;\"/><rect class=\"slider-tick-rect\" width=\"1px\" shape-rendering=\"crispEdges\" height=\"7\" transform=\"translate(125.95454545454544,50)\" style=\"fill: rgb(51, 51, 51); fill-opacity: 1;\"/><rect class=\"slider-tick-rect\" width=\"1px\" shape-rendering=\"crispEdges\" height=\"7\" transform=\"translate(164.77272727272728,50)\" style=\"fill: rgb(51, 51, 51); fill-opacity: 1;\"/><rect class=\"slider-tick-rect\" width=\"1px\" shape-rendering=\"crispEdges\" height=\"7\" transform=\"translate(203.5909090909091,50)\" style=\"fill: rgb(51, 51, 51); fill-opacity: 1;\"/><rect class=\"slider-tick-rect\" width=\"1px\" shape-rendering=\"crispEdges\" height=\"7\" transform=\"translate(242.40909090909088,50)\" style=\"fill: rgb(51, 51, 51); fill-opacity: 1;\"/><rect class=\"slider-tick-rect\" width=\"1px\" shape-rendering=\"crispEdges\" height=\"7\" transform=\"translate(281.22727272727275,50)\" style=\"fill: rgb(51, 51, 51); fill-opacity: 1;\"/><rect class=\"slider-tick-rect\" width=\"1px\" shape-rendering=\"crispEdges\" height=\"7\" transform=\"translate(320.04545454545456,50)\" style=\"fill: rgb(51, 51, 51); fill-opacity: 1;\"/><rect class=\"slider-tick-rect\" width=\"1px\" shape-rendering=\"crispEdges\" height=\"7\" transform=\"translate(358.8636363636364,50)\" style=\"fill: rgb(51, 51, 51); fill-opacity: 1;\"/><rect class=\"slider-tick-rect\" width=\"1px\" shape-rendering=\"crispEdges\" height=\"7\" transform=\"translate(397.6818181818182,50)\" style=\"fill: rgb(51, 51, 51); fill-opacity: 1;\"/><rect class=\"slider-tick-rect\" width=\"1px\" shape-rendering=\"crispEdges\" height=\"7\" transform=\"translate(436.5,50)\" style=\"fill: rgb(51, 51, 51); fill-opacity: 1;\"/><rect class=\"slider-rail-touch-rect\" width=\"447\" height=\"46.5\" opacity=\"0\" transform=\"translate(0,25)\" style=\"pointer-events: all; fill: rgb(248, 250, 252); fill-opacity: 1;\"/><rect class=\"slider-grip-rect\" width=\"20\" height=\"20\" rx=\"10\" ry=\"10\" transform=\"translate(0,25)\" style=\"pointer-events: all; stroke: rgb(190, 200, 217); stroke-opacity: 1; fill: rgb(248, 250, 252); fill-opacity: 1; stroke-width: 1px;\"/></g></g><g class=\"g-gtitle\"/><g class=\"g-xtitle\"><text class=\"xtitle\" x=\"328.5\" y=\"385.8\" text-anchor=\"middle\" style=\"font-family: 'Open Sans', verdana, arial, sans-serif; font-size: 14px; fill: rgb(42, 63, 95); opacity: 1; white-space: pre;\">gdpPercap</text></g><g class=\"g-ytitle\"><text class=\"ytitle\" transform=\"rotate(-90,44.334375,203)\" x=\"44.334375\" y=\"203\" text-anchor=\"middle\" style=\"font-family: 'Open Sans', verdana, arial, sans-serif; font-size: 14px; fill: rgb(42, 63, 95); opacity: 1; white-space: pre;\">lifeExp</text></g></g><g class=\"menulayer\"><g class=\"updatemenu-container\" style=\"cursor: pointer;\"><g class=\"updatemenu-header-group\" pointer-events=\"all\"><g class=\"updatemenu-button\" transform=\"translate(48,417)\"><rect class=\"updatemenu-item-rect\" rx=\"2\" ry=\"2\" shape-rendering=\"crispEdges\" x=\"0\" y=\"0\" width=\"35\" height=\"33\" style=\"stroke: rgb(190, 200, 217); stroke-opacity: 1; fill: rgb(255, 255, 255); fill-opacity: 1; stroke-width: 1px;\"/><text class=\"updatemenu-item-text\" text-anchor=\"start\" data-notex=\"1\" x=\"12\" y=\"19.5\" style=\"font-family: 'Open Sans', verdana, arial, sans-serif; font-size: 12px; fill: rgb(42, 63, 95); fill-opacity: 1; white-space: pre;\">▶</text></g><g class=\"updatemenu-button\" transform=\"translate(85,417)\"><rect class=\"updatemenu-item-rect\" rx=\"2\" ry=\"2\" shape-rendering=\"crispEdges\" x=\"0\" y=\"0\" width=\"36\" height=\"33\" style=\"stroke: rgb(190, 200, 217); stroke-opacity: 1; fill: rgb(255, 255, 255); fill-opacity: 1; stroke-width: 1px;\"/><text class=\"updatemenu-item-text\" text-anchor=\"start\" data-notex=\"1\" x=\"12\" y=\"19.5\" style=\"font-family: 'Open Sans', verdana, arial, sans-serif; font-size: 12px; fill: rgb(42, 63, 95); fill-opacity: 1; white-space: pre;\">◼</text></g></g><g class=\"updatemenu-dropdown-button-group\" updatemenu-active-index=\"-1\" style=\"pointer-events: all;\"><rect class=\"scrollbox-bg\" opacity=\"0\" x=\"0\" y=\"0\" width=\"0\" height=\"0\" style=\"pointer-events: all;\"/></g></g></g></svg>"
      ]
     },
     "metadata": {},
     "output_type": "display_data"
    }
   ],
   "source": []
  },
  {
   "attachments": {},
   "cell_type": "markdown",
   "id": "89a049f0",
   "metadata": {
    "papermill": {
     "duration": 0.001094,
     "end_time": "2024-06-15T23:13:10.749850",
     "exception": false,
     "start_time": "2024-06-15T23:13:10.748756",
     "status": "completed"
    },
    "tags": []
   },
   "source": [
    "## Create app\n",
    "\n",
    "1. Create a file `app.py`\n",
    "2. Add the previous code"
   ]
  }
 ],
 "metadata": {
  "kernelspec": {
   "display_name": "Python 3",
   "language": "python",
   "name": "python3"
  },
  "language_info": {
   "codemirror_mode": {
    "name": "ipython",
    "version": 3
   },
   "file_extension": ".py",
   "mimetype": "text/x-python",
   "name": "python",
   "nbconvert_exporter": "python",
   "pygments_lexer": "ipython3",
   "version": "3.11.4"
  },
  "papermill": {
   "default_parameters": {},
   "duration": 1.578603,
   "end_time": "2024-06-15T23:13:10.967848",
   "environment_variables": {},
   "exception": null,
   "input_path": "/Users/sota/Library/CloudStorage/Dropbox/2 Business/1 Datons/2 Areas/Courses/2 Catalogue/10 DF/1 Materials/DF-P/notebooks/10_Dataviz/1_Backend/B_Solution.ipynb",
   "output_path": "/Users/sota/Library/CloudStorage/Dropbox/2 Business/1 Datons/2 Areas/Courses/2 Catalogue/10 DF/1 Materials/DF-P/notebooks/10_Dataviz/1_Backend/B_Solution.ipynb",
   "parameters": {},
   "start_time": "2024-06-15T23:13:09.389245",
   "version": "2.6.0"
  }
 },
 "nbformat": 4,
 "nbformat_minor": 5
}
